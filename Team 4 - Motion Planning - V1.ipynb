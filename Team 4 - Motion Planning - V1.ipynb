{
 "cells": [
  {
   "cell_type": "code",
   "execution_count": 1,
   "metadata": {
    "scrolled": true
   },
   "outputs": [],
   "source": [
    "%load_ext autoreload\n",
    "%autoreload 2\n",
    "%matplotlib inline\n",
    "from motion_planning_utils import *\n",
    "from matplotlib import pyplot as plt\n",
    "import numpy as np\n",
    "from shapely.geometry import Point, Polygon, LineString, box\n",
    "from environment import Environment, plot_environment, plot_line, plot_poly\n",
    "import pyclipper\n",
    "# from pyscipopt import *\n",
    "from gurobipy import *\n",
    "import json"
   ]
  },
  {
   "cell_type": "markdown",
   "metadata": {},
   "source": [
    "# Project 4 - Motion Planning"
   ]
  },
  {
   "cell_type": "markdown",
   "metadata": {},
   "source": [
    "### Introduction to Trajectory Optimization\n",
    "- Introduce dynamics equations As + Bu = z\n",
    "- Single obstacle encoding as constraints\n",
    "    - Demonstrate creating a convex polygon bound\n",
    "    - Show constraint formulation for OR constraints using big M notation\n",
    "- Speed limit\n",
    "    - Quadratic constraint on s'"
   ]
  },
  {
   "cell_type": "markdown",
   "metadata": {},
   "source": [
    "## Robot Dynamics\n",
    "\n",
    "In this part, we will incorporate robot dynamics using a discrete time model. The initial location, goal locations, the geometry of system and obstacles, and vehicle speed limits are the inputs. We ignore acceleration constraints, and will solve an optimization problem to minimize distance. We will simplify the problem by treating the robot as a point mass as well. \n",
    "\n",
    "Under these assumptions, a generalized dynamic equation can be written in the form:\n",
    "\n",
    "$$\\begin{array}{c}\n",
    "& s_{t+1} = A_ds_t + B_du_t \\\\\\\n",
    "\\end{array}$$\n",
    "\n",
    "where:\n",
    "- $s_t$ is state (postion and velocity) of the robot at time step $t$\n",
    "- $A_d$ describes the dynamics relationship between position and velocity\n",
    "- $B_d$ describes the dynamics relationship between control input and velocity\n",
    "- $u_t$ is the control input at time step $t$\n",
    "- $\\Delta t$ is the time step size within total time $T$\n",
    "\n",
    "In our simplified robot dynamics system, we will ignore control inputs and model dynamics as a function of position and time only. The maximum velocity will be formulated as a constraint on position variables at consecutive time steps. We can therefore system dynamics to be of the form:\n",
    "\n",
    "$$\\begin{array}{c}\n",
    "& s_{t+1} = A_ds_t \\\\\\\n",
    "\\end{array}$$\n",
    "\n",
    "We can translate this equation into the matrix form:\n",
    "\n",
    "$$  \\begin{pmatrix}x_{t+1}\\\\y_{t+1}\\end{pmatrix} = \\begin{pmatrix}1&0& \\bigtriangleup t &0\\\\0&1&0&\\bigtriangleup t\\end{pmatrix}  \\begin{pmatrix}x_{t}\\\\y_{t}\\\\\\dot{x}_{t}\\\\\\dot{y}_{t}\\end{pmatrix}$$\n"
   ]
  },
  {
   "cell_type": "markdown",
   "metadata": {},
   "source": [
    "## Modeling the problem using a mathematical programming formulation\n",
    "\n",
    "### Choosing Decision Variables\n",
    "$$\n",
    "\\begin{array}{c}\n",
    "x_t \\text{ is the x-position at time step } i \\text{ for } i \\in [0,1,...,T]\\\\ \n",
    "y_t \\text{ is the y-position at time step } i \\text{ for } i \\in [0,1,...,T]\\\\ \n",
    "\\end{array}\n",
    "$$\n",
    "\n",
    "\n",
    "### Designing an Objective Function\n",
    "Since the goal is to minimize distance traveled, our objective function will seek to minimize the cumulative distance traveled during each consecutive time step. The distance between any two time steps $t-1$ and $t$ is given by:\n",
    "\n",
    "$$\n",
    "\\begin{array}{c}\n",
    "\\sqrt{(x_t - x_{t-1})^2 + (y_t - y_{t-1})^2}\\\\  \n",
    "\\end{array}\n",
    "$$\n",
    "\n",
    "In order to remove the complicating square-root from our objective function, we can instead minimize the square of distance, which gives us the following objective function:\n",
    "\n",
    "$$\n",
    "\\begin{array}{c}\n",
    "\\text{OBJ: min}_t  \\sum_1^T{(x_t - x_{t-1})^2 + (y_t - y_{t-1})^2}\\\\  \n",
    "\\end{array}\n",
    "$$\n",
    "\n",
    "\n",
    "\n"
   ]
  },
  {
   "cell_type": "markdown",
   "metadata": {},
   "source": [
    "### Modeling Maximum Velocity Constraint\n",
    "Since our system is discretized into constant-duration time steps $\\Delta t$, we can model coordinate component velocity as the change position at any time step t:\n",
    "\n",
    "$$\n",
    "\\begin{array}{c}\n",
    "\\dot{x} = (x_t - x_{t-1})/\\Delta t\\\\\n",
    "\\dot{y} = (y_t - y_{t-1})/\\Delta t\\\\\n",
    "\\\\\n",
    "\\text{and then the square of velocity becomes:}\\\\\n",
    "\\\\\n",
    "v^2 = [(x_t - x_{t-1})^2 + (y_t - y_{t-1})^2] / \\Delta t^2\\\\\n",
    "\\end{array}\n",
    "$$\n",
    "\n",
    "$$\n",
    "\\begin{array}{c}\n",
    "\\text{If } u \\text{ is the maximum velocity permitted, then } \\lVert v \\rVert \\le u\\text{, so our constraint can be written as: } \\\\\n",
    "\\\\\n",
    "(x_t - x_{t-1})^2 + (y_t - y_{t-1})^2 \\le v^2 \\Delta t^2 \\quad \\forall t\\\\\n",
    "\\end{array}\n",
    "$$\n",
    "\n",
    "Note that this constraint makes complicates the problem from a numerical solving efficiency standpoint -- the quadratic constraint brings us into the realm of Mixed-Integer Quadratically-Constrainted Programming (MIQCP)"
   ]
  },
  {
   "cell_type": "markdown",
   "metadata": {},
   "source": [
    "### Encoding obstacles as constraints\n",
    "\n",
    "Since all the obstacles in this problem are stationary, we can easily encode convex polygonal obstacles using linear constraints. Concave shape can be dealt with by chopping them into multiple convex objects, or by setting a convex boundary that encompasses the entire shape.\n",
    "\n",
    "<img src=\"simple_sq_obs.png\" style=\"width:50%;\"/>\n",
    "\n",
    "In the example scenario above, the obstacle is a rectangle shaped by $[x_{min}, x_{max}]$ and $[y_{min}, y_{max}]$. The positional constraint ensuring the obstacle is avoided can be expressed by: \n",
    "\n",
    "$$\\begin{array}{l}\n",
    "& \\forall t  \\in [1,2,3,..., T]:\\\\\n",
    "& x_t \\leq x_{min}\\\\\n",
    "\\text{or} & x_t \\geq x_{max}\\\\\n",
    "\\text{or} & y_t \\leq y_{min}\\\\\n",
    "\\text{or} & y_t \\geq y_{max}\\\\\n",
    "\\end{array}$$\n",
    "\n",
    "However, to make these constraints useful in solving a linear program, we need to reformulate the constraints to get rid of the \"OR\" statements and convert them to \"AND\" statements. To do this, we introduce the notion of the binary variable $z_{j,k}$:  \n",
    "\n",
    "$$\\begin{array}{l}\n",
    "&& z_{j,k} \\in [0,1]\\\\\n",
    "&\\text{where} & j \\in [1,2,3,...J]\\\\\n",
    " && k \\in [1,2,3,...K_j]\\\\\n",
    " && J \\text{ is the number of polygon obstacles}\\\\\n",
    " && k \\text{ is the index of each side of polygon obstacle j with $K_j$ total sides}\\\\\n",
    "\\end{array}$$\n",
    "\n",
    "The binary variable $z_{j,k}$ is known as a _slack_ variable. A _slack_ variable allows us to transform and inequality into an equality, or in this case, an \"OR\" statement into an \"AND\" statement. For example, take the following inequality:\n",
    "\n",
    "\\begin{equation}\n",
    "\\bf{A}x \\leq b\n",
    "\\end{equation}\n",
    "\n",
    "We introduce the slack variable $z \\geq 0$ which allows us to transform the above inequality into the following equality:\n",
    "\n",
    "\\begin{equation}\n",
    "\\bf{A}x + z = b\n",
    "\\end{equation}\n",
    "\n",
    "Because $z$ can compensate for the \"slack\" between b and $\\bf{A}x$ and make it so that $\\bf{A}x + z$ is always equal to $b$.\n",
    "\n",
    "Therefore, for our simple rectangle example, to transform the \"OR\" statements into \"AND\" statements, we use $z_{i,k}$ together with an arbitrarily large positive number $M$ (referred to as \"Big-M\" notation\").\n",
    "\n",
    "$$\\begin{array}{l}\n",
    "& \\forall t \\in [1,2,..., T]: \\\\\n",
    "& x_t \\leq x_{min} + M z_{1,1} \\\\\n",
    "\\text{and} & -x_t \\leq -x_{max} + M z_{1,2} \\\\\n",
    "\\text{and} & y_t \\leq y_{min} + M z_{1,3} \\\\\n",
    "\\text{and} & -y_t \\leq -y_{max} + M z_{1,4} \\\\\n",
    "\\text{and} & \\Sigma_{k=1}^{4} z_{j,k} \\leq 3 \\\\\n",
    "\\end{array}$$\n",
    "\n",
    "\n",
    "For example, $z_{j,1}=0$ if $x_t \\leq x_{min}$. If $x_t \\gt x_{min}$, then $z_{j,1}=1$ and since $M$ is a large positive number, we satisfy the constraint that $x_t \\leq x_{min} + M z_{j,1}$. In order to classify a position $(x_t,y_t)$ as within obstacle $j$, then $\\Sigma_{k=1}^{4} z_{j,k} = 4$ which has the same meaning as all of the \"OR\" statements in the previous section being false.\n"
   ]
  },
  {
   "cell_type": "markdown",
   "metadata": {},
   "source": [
    "## Generalizing constraints for a n-sided polygon\n",
    "The extension of the constraint enumeration to an obstacle shaped as a n-sided polygon is fairly trivial; the number of per-obstacle constraint equations is always $n+1$ with the last constraint equation resembling:\n",
    "$$\\Sigma_{k=1}^{n} z_{j,k} \\leq n-1$$\n",
    "\n",
    "The challenge in extending the obstacle encoding problem to obstacles shaped as n-sided polygons is the fact that an edge of the obstacle could _not_ be orthogonal to either the environment's X or Y axes. \n",
    "\n",
    "To begin, each polygon will have $n$ sides. We will denote each side with a pair of coordinates that correspond to the two vertexes that define the edges of the side; therefore, side $n_k = \\{(x_{j,k},y_{j,k}),(x_{j,k'},y_{j,k'})\\}$ such that $k \\in [1,2,..n], k \\neq k'$. From here, we can define a line segment for each side of the polygon\n",
    "\n",
    "$$y_{j,k} = A_{j,k} x_{j,k} + b_{j,k}$$\n",
    "\n",
    "Where $A_{j,k}$ is the slope of each side $l$. We can calculate $A_{j,k}$ by\n",
    "\n",
    "$$A_{j,k} = \\frac{y_{j,k'}-y_{j,k}}{x_{j,k'}-x_{j,k}}\\quad s.t.\\quad x_{j,k'}-x_{j,k} \\neq 0\\quad and \\quad y_{j,k'}-y_{j,k} \\neq 0$$\n",
    "\n",
    "and calculate $b_{j,k}$ by substituting a point along the side for the values $(x_{j,k},y_{j,k})$ and solving for $b_{j,k}$. If $x_{j,k'}-x_{j,k} = 0$ or $y_{j,k'}-y_{j,k} = 0$, the side is parallel to the y-axis and x-axis, respectively. In these cases, the constraint equation for the side follows from the previous section. All sides that are not orthogonal to an axis can be represented by the following constraint equation:\n",
    "\n",
    "$$y_{t} \\leq A_{j,k}x_t + b_{j,k} + M z_{j,k}$$\n",
    "\n",
    "Where $z_{j,k}$ and $M$ carry forward from the previous section. Therefore, the full set of constraint equations for sides of a rectangle whose sides are not orthogonal to either the x-axis or y-axis can be described by the following:\n",
    "\n",
    "$$\\begin{array}{l}\n",
    "&\\forall i \\in [1,2,...,N]:\\\\\n",
    " & y_t \\leq A_{j,1}x_{t} + b_{j,1} + M z_{j,1}\\\\\n",
    "\\text{and} & -y_t \\geq -(A_{j,2}x_{t} + b_{j,2}) + M z_{j,2}\\\\\n",
    "\\text{and} & y_t \\leq A_{j,3}x_{t} + b_{j,3} + M z_{j,3}\\\\\n",
    "\\text{and} & -y_t \\geq -(A_{j,4}x_{t} + b_{j,4}) + M z_{j,4}\\\\\n",
    "\\text{and} & \\Sigma_{k=1}^{4} z_{j,k} \\leq 3\\\\\n",
    "\\end{array}$$"
   ]
  },
  {
   "cell_type": "markdown",
   "metadata": {},
   "source": [
    "## Simple Robot Path Planning - Single Obstacle\n",
    "\n",
    "We'll start by considering a simplified version of our ultimate problem, and examine constraint-based path planning throgh a single-obstacle environment to reach a single goal. In an 8x8 unit environment, we define our problem conditions as follows:\n",
    "\n",
    "- Robot Start Point: `(1,1)`\n",
    "- Goal Region: Rectangle region bounded by `[(6,6), (6,7), (7,7), (7, 6)]`\n",
    "- Obstacles: Single obstacle bounded by `[(3,2), (2,6), (4,5), (6,3)]`\n",
    "\n",
    "Our goal will be to minimize distance traveled.\n",
    "\n",
    "Run the code in the next cell to preview the starting environment.\n",
    "\n"
   ]
  },
  {
   "cell_type": "code",
   "execution_count": 2,
   "metadata": {},
   "outputs": [
    {
     "name": "stdout",
     "output_type": "stream",
     "text": [
      "(5.5, 5.5)\n"
     ]
    },
    {
     "data": {
      "image/png": "[encoded data removed]",
      "text/plain": [
       "<Figure size 396x396 with 1 Axes>"
      ]
     },
     "metadata": {
      "needs_background": "light"
     },
     "output_type": "display_data"
    }
   ],
   "source": [
    "# Sample Problem\n",
    "obstacles = [(3,2), (2,6), (4,5), (6,3)]\n",
    "start = (1,1)\n",
    "goal = [(6,6), (6,7), (7,7), (7, 6)]\n",
    "\n",
    "env = Environment(None)\n",
    "env.add_obstacles([Polygon(obstacles)])\n",
    "bounds = (0, 0, 8, 8)\n",
    "ax = plot_environment(env, bounds=bounds)\n",
    "start_point = Point(start).buffer(0.4, resolution=3)\n",
    "goal_region = Polygon(goal)\n",
    "plot_poly(ax, start_point,'magenta')\n",
    "plot_poly(ax, goal_region,'green')"
   ]
  },
  {
   "cell_type": "markdown",
   "metadata": {},
   "source": [
    "In order to simplify the problem, we would like to treat our robot as a point object. To do this, we add a buffer, equal to the robot's radius, to every obstacle in the environment. This allows us to consider the robot as a point, rather than a moving area, and still take into account the robot's size to avoid collision with obstacles. \n",
    "\n",
    "To make this easy, we'll use the `pyclipper` package to create the buffer. The example code below performs this task for our example environment and obstacle, using functions defined in the `motion_planning_utils` file:"
   ]
  },
  {
   "cell_type": "code",
   "execution_count": null,
   "metadata": {},
   "outputs": [],
   "source": [
    "# Redefine obstacles with radius of droid; treat droid as a point robot\n",
    "buff_obs = grow_obstacles(obstacles)\n",
    "plot_env([Polygon(buff_obs[0])], start, goal, bounds)\n",
    "print('Buffered Obstacle Vertices: \\n', buff_obs)"
   ]
  },
  {
   "cell_type": "markdown",
   "metadata": {},
   "source": [
    "## Obstacle Constraint Formulation Example\n",
    "\n",
    "The code block below shows a polygon with sides that are orthogonal to the x-axis and y-axis as well as sides that are not orthogonal. Feel free to change the points in order to see whether they fall inside or outside of the polygon."
   ]
  },
  {
   "cell_type": "code",
   "execution_count": null,
   "metadata": {},
   "outputs": [],
   "source": [
    "# Change obstacle points and start point at will\n",
    "obs = ([(3,2), (2,5), (5,5),(6,4),(6,3)])\n",
    "start = (1,1)\n",
    "other = (4,3)\n",
    "\n",
    "# DO NOT Change Below Here\n",
    "pco = pyclipper.PyclipperOffset()\n",
    "pco.MiterLimit = 10\n",
    "pco.AddPath(pyclipper.scale_to_clipper(obs), pyclipper.JT_MITER, pyclipper.ET_CLOSEDPOLYGON)\n",
    "buff_obs = pyclipper.scale_from_clipper(pco.Execute(pyclipper.scale_to_clipper(.2)))\n",
    "\n",
    "env = Environment(None)\n",
    "env.add_obstacles([Polygon(buff_obs[0])])\n",
    "bounds = (0, 0, 8, 8)\n",
    "ax = plot_environment(env, bounds=bounds)\n",
    "start_point = Point(start).buffer(0.1, resolution=3)\n",
    "other_point = Point(other).buffer(0.1, resolution=3)\n",
    "goal_region = Polygon(goal)\n",
    "plot_poly(ax, start_point,'magenta')\n",
    "plot_poly(ax, other_point,'red')\n",
    "plot_poly(ax, goal_region,'green')\n",
    "points = (start, other)\n",
    "numObs = len(env.obstacles)\n",
    "for p in range(0,len(points)):\n",
    "    point = points[p]\n",
    "    for i in range(0,numObs):\n",
    "        obstacle = env.obstacles[i]\n",
    "        vertexes = list(obstacle.exterior.coords)\n",
    "        numSides = len(vertexes)-1\n",
    "        t = []\n",
    "        x_center = 0\n",
    "        y_center = 0\n",
    "        for vertex in range(0,numSides):\n",
    "            x_center = x_center + vertexes[vertex][0]\n",
    "            y_center = y_center + vertexes[vertex][1]\n",
    "        x_center = x_center/numSides\n",
    "        y_center = y_center/numSides\n",
    "        for vertex in range(0,numSides):\n",
    "            x = vertexes[vertex][0]\n",
    "            y = vertexes[vertex][1]\n",
    "            num = vertexes[vertex+1][1] - vertexes[vertex][1]\n",
    "            den = vertexes[vertex+1][0] - vertexes[vertex][0]\n",
    "            if(den == 0):\n",
    "                if(x_center < x):\n",
    "                    t.append(point[0]<x)\n",
    "                elif(x_center > x):\n",
    "                    t.append(point[0]>x)\n",
    "            else:\n",
    "                A = (num/den)\n",
    "                b = y-A*x\n",
    "                if(y_center < A*x_center + b):\n",
    "                    t.append(point[1] < A*point[0]+b)\n",
    "                elif(y_center > A*x_center + b):\n",
    "                    t.append(point[1] > A*point[0]+b)\n",
    "        if(False not in t):\n",
    "            print('Point %d IS in obstacle %d'%(p+1,i+1))\n",
    "        else:\n",
    "            print('Point %d is NOT in obstacle %d'%(p+1,i+1))\n",
    "#should print out True, True, True, False, False. Goes around sides counterclockwise starting at vertical line.\n"
   ]
  },
  {
   "cell_type": "code",
   "execution_count": null,
   "metadata": {},
   "outputs": [],
   "source": [
    "obs_list = [[(3,2), (2,6), (4,5), (6,3)]]"
   ]
  },
  {
   "cell_type": "code",
   "execution_count": 5,
   "metadata": {},
   "outputs": [],
   "source": [
    "### Code here to automatically generate constraints from a list of lists that each define convex polygon vertices\n",
    "# TODO\n",
    "###\n",
    "\n",
    "def set_obs_constraints(model, obstacle_list):\n",
    "    constraint_list = []\n",
    "    for obs in obs_list:\n",
    "        # create z variables z_obs_len(obs)\n",
    "        for idx, vertex, in enumerate(obs):\n",
    "            \n",
    "            vertex1 = obs[idx]\n",
    "            vertex2 = obs[(idx + 1)%len(obs)] # grab next vertex and loop back to the first for last index\n",
    "            delta_x = vertex2[0] - vertex1[0]\n",
    "            delta_y = vertex2[1] - vertex1[1]\n",
    "            vertex_avg = find_vertex_avg(obs) # known that avg of vertices lies inside convex polygon\n",
    "            if delta_x != 0:  # check if line is vertical\n",
    "                m = delta_y / delta_x\n",
    "                b = vertex1[1] - m * vertex1[0]\n",
    "                if vertex_avg[1] < m * vertex_avg[0] + b:  # then flip constraint\n",
    "                    constraint_list.append('-y < -m * x + -b + M * z[obs_idx][v_idx]')\n",
    "                else:\n",
    "                    constraint_list.append('y < m * x + b + M * z[obs_idx][v_idx]')\n",
    "            else:\n",
    "                if vertex_avg[0] < vertex1[0]:  # then flip constraint\n",
    "                    constraint_list.append('-x < -1 * vertex1[0] + M * z[obs_idx][v_idx]')\n",
    "                else:\n",
    "                    constraint_list.append('x < vertex1[0] + M * z[obs_idx][v_idx]')\n",
    "        constraint_list.append('sum(z_j,k) over k < len(obs)')\n",
    "        return constraint_list\n",
    "            \n",
    "\n",
    "def find_vertex_avg(obstacle):\n",
    "    x_avg = sum([x[0] for x in obstacle])/len(obstacle)\n",
    "    y_avg = sum([x[1] for x in obstacle])/len(obstacle)\n",
    "    return (x_avg, y_avg)\n",
    "    \n",
    "    \n",
    "\n"
   ]
  },
  {
   "cell_type": "code",
   "execution_count": null,
   "metadata": {},
   "outputs": [],
   "source": [
    "set_obs_constraints(obs_list)"
   ]
  },
  {
   "cell_type": "code",
   "execution_count": 12,
   "metadata": {},
   "outputs": [
    {
     "name": "stdout",
     "output_type": "stream",
     "text": [
      "Optimize a model with 159 rows, 186 columns and 500 nonzeros\n",
      "Model has 122 quadratic objective terms\n",
      "Model has 30 quadratic constraints\n",
      "Variable types: 62 continuous, 124 integer (124 binary)\n",
      "Coefficient statistics:\n",
      "  Matrix range     [3e-01, 1e+05]\n",
      "  QMatrix range    [1e+00, 2e+00]\n",
      "  Objective range  [0e+00, 0e+00]\n",
      "  QObjective range [2e+00, 4e+00]\n",
      "  Bounds range     [1e+00, 8e+00]\n",
      "  RHS range        [1e+00, 1e+01]\n",
      "  QRHS range       [2e-01, 2e-01]\n",
      "Presolve removed 17 rows and 15 columns\n",
      "Presolve time: 0.00s\n",
      "Presolved: 142 rows, 171 columns, 454 nonzeros\n",
      "Presolved model has 114 quadratic objective terms\n",
      "Variable types: 58 continuous, 113 integer (113 binary)\n",
      "\n",
      "Root relaxation: objective 2.400000e+00, 247 iterations, 0.00 seconds\n",
      "\n",
      "    Nodes    |    Current Node    |     Objective Bounds      |     Work\n",
      " Expl Unexpl |  Obj  Depth IntInf | Incumbent    BestBd   Gap | It/Node Time\n",
      "\n",
      "     0     0    2.40000    0   78          -    2.40000      -     -    0s\n",
      "     0     0    2.40000    0   85          -    2.40000      -     -    0s\n",
      "H    0     0                       3.2933757    2.40000  27.1%     -    0s\n",
      "H    0     0                       3.1978386    2.40000  24.9%     -    0s\n",
      "     0     2    2.40000    0   85    3.19784    2.40000  24.9%     -    0s\n",
      "H    5     6                       3.1741710    2.40000  24.4%  14.0    0s\n",
      "H   12    10                       3.1741707    2.40000  24.4%  23.7    0s\n",
      "H   51    24                       3.1607542    2.40882  23.8%  10.6    0s\n",
      "H  232    68                       3.0614599    2.47353  19.2%   6.7    0s\n",
      "H  261    61                       2.9241703    2.47353  15.4%   6.4    0s\n",
      "H 1178    47                       2.9095400    2.79054  4.09%   5.3    0s\n",
      "\n",
      "Cutting planes:\n",
      "  Cover: 38\n",
      "  Implied bound: 5\n",
      "  MIR: 54\n",
      "\n",
      "Explored 1299 nodes (7016 simplex iterations) in 0.24 seconds\n",
      "Thread count was 8 (of 8 available processors)\n",
      "\n",
      "Solution count 8: 2.90954 2.92417 3.06146 ... 3.29338\n",
      "\n",
      "Optimal solution found (tolerance 1.00e-04)\n",
      "Best objective 2.909539989033e+00, best bound 2.909539989033e+00, gap 0.0000%\n"
     ]
    }
   ],
   "source": [
    "# testing using SCIP/Gurobi via PyScipOpt/gurobipy\n",
    "start_point = (1,1)\n",
    "goal_state = (7,7)\n",
    "T = 30\n",
    "timestep = .5\n",
    "N = T/timestep\n",
    "V_max = 1\n",
    "M = 100000\n",
    "model = Model()\n",
    "bounds = (0, 0, 8, 8)\n",
    "time = list(range(0,T+1))\n",
    "obs_list = [[(3,2), (2,6), (4,5), (6,3)]]\n",
    "# obs_list = buff_obs\n",
    "\n",
    "# Set x,y decision vars\n",
    "x,y,tz,z = {},{},{},{}\n",
    "for t in time:\n",
    "    x[t] = model.addVar(lb=bounds[0], ub=bounds[2], name=\"x(%s)\"%(t))\n",
    "    y[t] = model.addVar(lb=bounds[1], ub=bounds[3], name=\"y(%s)\"%(t))\n",
    "#     tz[t] = model.addVar(name=\"tz(%s)\"%(t), vtype=\"BINARY\")\n",
    "        \n",
    "# Set objective function\n",
    "model.setObjective(quicksum((x[t] - x[t-1])*(x[t] - x[t-1]) + (y[t] - y[t-1])*(y[t] - y[t-1]) for t in range(1,T+1)))\n",
    "# model.setObjective(quicksum(tz[t] for t in range(1,T+1)))\n",
    "\n",
    "# Set initial conditions\n",
    "model.addConstr(x[0] == start_point[0])\n",
    "model.addConstr(y[0] == start_point[1])\n",
    "# model.addConstr(tz[0] == 0)\n",
    "\n",
    "# Set velocity constraint for each time period\n",
    "for t in range(1,T+1):\n",
    "    model.addQConstr((x[t] - x[t-1])*(x[t] - x[t-1]) + (y[t] - y[t-1])*(y[t] - y[t-1]) <= V_max*V_max * timestep*timestep)\n",
    "    \n",
    "    # Slack variable constraints to indicate whether a vehicle moved in period t\n",
    "#     model.addQConstr(((x[t] - x[t-1])*(x[t] - x[t-1]) + (y[t] - y[t-1])*(y[t] - y[t-1]))*(1/(timestep*V_max)) - tz[t] <= 0)\n",
    "#     model.addQConstr(((x[t] - x[t-1])*(x[t] - x[t-1]) + (y[t] - y[t-1])*(y[t] - y[t-1]))*(1/(timestep*V_max)) - tz[t] >= -1)\n",
    "    \n",
    "    \n",
    "# Set goal state conditions\n",
    "model.addConstr(x[T] == goal_state[0])\n",
    "model.addConstr(y[T] == goal_state[1])\n",
    "\n",
    "    \n",
    "# Set Obstacle Constraints\n",
    "for idx_obs, obs in enumerate(obs_list):\n",
    "    # create z variables z_obs_len(obs)\n",
    "    \n",
    "    for idx_v, vertex, in enumerate(obs):\n",
    "        for t in range(0,T+1):\n",
    "            z[(idx_obs, idx_v, t)] = model.addVar(name=\"z(%s,%s,%s)\"%(idx_obs,idx_v,t), vtype=\"BINARY\")\n",
    "        vertex1 = obs[idx_v]\n",
    "        vertex2 = obs[(idx_v + 1)%len(obs)] # grab next vertex and loop back to the first for last index\n",
    "        delta_x = vertex2[0] - vertex1[0]\n",
    "        delta_y = vertex2[1] - vertex1[1]\n",
    "        vertex_avg = find_vertex_avg(obs) # known that avg of vertices lies inside convex polygon\n",
    "        if delta_x != 0:  # check if line is vertical\n",
    "            m = delta_y / delta_x\n",
    "            b = vertex1[1] - m * vertex1[0]\n",
    "            if vertex_avg[1] < m * vertex_avg[0] + b:  # then flip constraint\n",
    "                model.addConstrs(-y[t] <= -m * x[t] - b + M*z[(idx_obs, idx_v, t)] for t in range(0,T+1))\n",
    "#                 print(vertex1, vertex2)\n",
    "#                 print(delta_x, delta_y)\n",
    "#                 print('y[t] >= %f * x[t] + %f - M* z'%(m, b))\n",
    "            else:\n",
    "                model.addConstrs(y[t] <= m * x[t] + b + M*z[(idx_obs, idx_v, t)] for t in range(0,T+1))\n",
    "#                 print(vertex1, vertex2)\n",
    "#                 print(delta_x, delta_y)\n",
    "#                 print('y[t] <= %f * x[t] + %f + M* z'%(m, b))\n",
    "        else:\n",
    "            if vertex_avg[0] <= vertex1[0]:  # then flip constraint\n",
    "                model.addConstrs(-x[t] <= -vertex1[0] + M*z[(idx_obs, idx_v, t)] for t in range(0,T+1))\n",
    "            else:\n",
    "                model.addConstrs(x[t] <= vertex1[0] + M*z[(idx_obs, idx_v, t)] for t in range(0,T+1))\n",
    "    for t in range(0,T+1):            \n",
    "        model.addConstr(quicksum(z[(idx_obs,v,t)] for v in range(len(obs))) <= (len(obs) - 1))\n",
    "\n",
    "model.update()\n",
    "model.optimize()\n"
   ]
  },
  {
   "cell_type": "code",
   "execution_count": 13,
   "metadata": {},
   "outputs": [],
   "source": [
    "path_list = []\n",
    "for t in time:\n",
    "#     x_val.append(x[t].x)\n",
    "#     y_val.append(y[t].x)\n",
    "    path_list.append((x[t].x, y[t].x))\n"
   ]
  },
  {
   "cell_type": "code",
   "execution_count": 14,
   "metadata": {},
   "outputs": [
    {
     "data": {
      "text/plain": [
       "[(3, 2), (2, 6), (4, 5), (6, 3)]"
      ]
     },
     "execution_count": 14,
     "metadata": {},
     "output_type": "execute_result"
    }
   ],
   "source": [
    "obs_list[0]"
   ]
  },
  {
   "cell_type": "code",
   "execution_count": 16,
   "metadata": {},
   "outputs": [
    {
     "name": "stdout",
     "output_type": "stream",
     "text": [
      "(5.5, 5.5)\n",
      "Obstacle Vertices: \n",
      " [[(3, 2), (2, 6), (4, 5), (6, 3)]]\n"
     ]
    },
    {
     "data": {
      "image/png": "[encoded data removed]",
      "text/plain": [
       "<Figure size 396x396 with 1 Axes>"
      ]
     },
     "metadata": {
      "needs_background": "light"
     },
     "output_type": "display_data"
    }
   ],
   "source": [
    "# Redefine obstacles with radius of droid; treat droid as a point robot\n",
    "ax = plot_env([Polygon(obs_list[0])], start, goal, bounds)\n",
    "\n",
    "for pt in path_list:\n",
    "    t_pt = Point(pt).buffer(0.05, resolution=3)\n",
    "    plot_poly(ax, t_pt, 'black')    \n",
    "\n",
    "\n",
    "# start_point = Point(start).buffer(0.4, resolution=3)\n",
    "# goal_region = Polygon(goal)\n",
    "# plot_poly(ax, start_point,'magenta')\n",
    "# plot_poly(ax, goal_region,'green')\n",
    "\n",
    "print('Obstacle Vertices: \\n', obstacle_list)"
   ]
  },
  {
   "cell_type": "code",
   "execution_count": null,
   "metadata": {},
   "outputs": [],
   "source": [
    "find_vertex_avg(obs_list[0])"
   ]
  },
  {
   "cell_type": "code",
   "execution_count": null,
   "metadata": {},
   "outputs": [],
   "source": [
    "set_obs_constraints(obs_list)"
   ]
  },
  {
   "cell_type": "markdown",
   "metadata": {},
   "source": [
    "## Constraint Encoding Using PySCIPOpt Interface and SCIP Solver\n",
    "\n",
    "After constructing the path planning problem as a MIQCP problem, we must encode the variables, objective function, and constraints and feed this into a solver. [PySCIPOpt](https://github.com/SCIP-Interfaces/PySCIPOpt) is a commonly-used python interface for the open-source [SCIP Solver](https://scip.zib.de/). \n",
    "\n",
    "The underlying outline is: \n",
    " - Specify variables\n",
    " - Specify contraints over these variables\n",
    " - Construct a model with the constraints\n",
    " - Construct the solver using that model\n",
    " - Call `solve()` and extract results from variables using `get_value()`\n",
    " \n",
    "As the variables and constraints are already defined above, the following section provides and example encoding of our trivial problem with a single obstacle."
   ]
  },
  {
   "cell_type": "markdown",
   "metadata": {},
   "source": [
    "The constructs of the problem are split into 3 parts: variables, constraints, and model."
   ]
  },
  {
   "cell_type": "code",
   "execution_count": null,
   "metadata": {},
   "outputs": [],
   "source": [
    "# testing using SCIP via PyScipOpt\n",
    "model = Model(\"Example\")  # model name is optional\n",
    "\n",
    "x = model.addVar(\"x\")\n",
    "y = model.addVar(\"y\", vtype=\"INTEGER\")\n",
    "model.setObjective(2.2*x + 3*y)\n",
    "model.addCons(2*x - y*y >= 5)\n",
    "model.optimize()\n",
    "sol = model.getBestSol()\n",
    "print(\"x: {}\".format(sol[x]))\n",
    "print(\"y: {}\".format(sol[y]))\n"
   ]
  },
  {
   "cell_type": "code",
   "execution_count": null,
   "metadata": {},
   "outputs": [],
   "source": [
    "# Test JSON obstacle file\n",
    "\n",
    "with open('notamoon.json') as f:\n",
    "    ex_json_dict = json.load(f)\n",
    "plt.figure()\n",
    "\n",
    "for obs in ex_json_dict['obstacles']:\n",
    "    coord = np.array(obs['geometry']['coordinates'])\n",
    "    plt.plot(coord[:,0],coord[:,1],'-r')\n",
    "\n",
    "plt.gca().set_aspect('equal','box')\n",
    "plt.draw()\n",
    "line1,= plt.plot(coord[:,0],coord[:,1],'-r',label='Obstacles')\n",
    "\n",
    "coord = np.array(ex_json_dict['goal']['geometry']['coordinates'])\n",
    "line2,=plt.plot(coord[:,0],coord[:,1],'k-',label='Goal Region')\n",
    "\n",
    "line3,=plt.plot(0,0,'*b',label='Start Location')\n",
    "plt.legend(handles=[line1,line2,line3],loc='best')\n"
   ]
  },
  {
   "cell_type": "markdown",
   "metadata": {},
   "source": [
    "### **Solver Selection**\n",
    "\n",
    "Since the problem contains quadratic constraints, we should select specific solver to solve the problem. Two possbile solvers are SCIP and Gurobi. \n",
    "\n",
    "Gurobi Optimizer is the the fastest and most powerful mathematical programming solver available for LP, QP and MIP (MILP, MIQP, and MIQCP) problems, although Gurobi is not open-source.\n",
    "\n",
    "SCIP is currently one of the fastest non-commercial solvers for mixed integer programming (MIP) and mixed integer nonlinear programming (MINLP). It is also a framework for constraint integer programming and branch-cut-and-price. It allows for total control of the solution process and the access of detailed information down to the guts of the solver.\n",
    "\n",
    "Both the two solvers are fast and easy to implement with PySCIPOpt, and syntax is nearly identical. "
   ]
  },
  {
   "cell_type": "markdown",
   "metadata": {},
   "source": [
    "### Space Station Problem Introduction\n",
    "- Go through same steps as above\n",
    "- Introduce multi-vehicle problem\n",
    "    - Collision avoidance\n",
    "    - Each waypoint visited by only one vehicle"
   ]
  },
  {
   "cell_type": "markdown",
   "metadata": {},
   "source": [
    "In the real space station problem, it is a little different from the simplified problem above. The number of robots is bigger than 1, which means that we need to add dynamic equations and constrait equations for each robot. One of the big change here is the non-collision constraint, which can be formalized by that all the robot pairs keep a minimum distance accoding their own coordination. But the process to solve the problem is relatively similar as the one we use in the simplified problem."
   ]
  },
  {
   "cell_type": "code",
   "execution_count": null,
   "metadata": {},
   "outputs": [],
   "source": [
    "# Code here to determine constraint parameters"
   ]
  },
  {
   "cell_type": "markdown",
   "metadata": {},
   "source": [
    "### Encoding of Problem - MIQCP\n",
    "\n",
    "Since the speed limit is given, the distance traveled in a given time step is a quadratic constraint. \n",
    "\n",
    "Thus the whole problem can be encoded as a motion planning problem based on MIQCP with the constriant of speed limitation, time limitation (termination constraint), non-collision constraint, obstacle constraint with the objective function of time to finish the whole task. "
   ]
  },
  {
   "cell_type": "code",
   "execution_count": null,
   "metadata": {},
   "outputs": [],
   "source": [
    "# Encoding of problem using PySCIPOpt"
   ]
  },
  {
   "cell_type": "markdown",
   "metadata": {},
   "source": [
    "## Conclusion\n",
    "- Discussion of results\n",
    "- Considerations for added complexity (multi-vehicle, fixed arrival time, etc)"
   ]
  },
  {
   "cell_type": "code",
   "execution_count": null,
   "metadata": {},
   "outputs": [],
   "source": []
  }
 ],
 "metadata": {
  "kernelspec": {
   "display_name": "Python 3",
   "language": "python",
   "name": "python3"
  },
  "language_info": {
   "codemirror_mode": {
    "name": "ipython",
    "version": 3
   },
   "file_extension": ".py",
   "mimetype": "text/x-python",
   "name": "python",
   "nbconvert_exporter": "python",
   "pygments_lexer": "ipython3",
   "version": "3.7.4"
  }
 },
 "nbformat": 4,
 "nbformat_minor": 2
}
