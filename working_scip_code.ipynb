{
 "cells": [
  {
   "cell_type": "code",
   "execution_count": 1,
   "metadata": {},
   "outputs": [],
   "source": [
    "%load_ext autoreload\n",
    "%autoreload 2\n",
    "%matplotlib inline\n",
    "from motion_planning_utils import *\n",
    "from matplotlib import pyplot as plt\n",
    "import numpy as np\n",
    "from shapely.geometry import Point, Polygon, LineString, box\n",
    "from environment import Environment, plot_environment, plot_line, plot_poly\n",
    "import pyclipper\n",
    "from pyscipopt import *\n",
    "import json\n",
    "import time as tm\n"
   ]
  },
  {
   "cell_type": "code",
   "execution_count": 2,
   "metadata": {},
   "outputs": [
    {
     "name": "stdout",
     "output_type": "stream",
     "text": [
      "(5.5, 5.5)\n"
     ]
    },
    {
     "data": {
      "image/png": "[encoded data removed]",
      "text/plain": [
       "<Figure size 396x396 with 1 Axes>"
      ]
     },
     "metadata": {
      "needs_background": "light"
     },
     "output_type": "display_data"
    }
   ],
   "source": [
    "# Sample Problem\n",
    "obstacles = [(3,2), (2,6), (4,5), (6,3)]\n",
    "start = (1,1)\n",
    "goal = [(6,6), (6,7), (7,7), (7, 6)]\n",
    "\n",
    "env = Environment(None)\n",
    "env.add_obstacles([Polygon(obstacles)])\n",
    "bounds = (0, 0, 8, 8)\n",
    "ax = plot_environment(env, bounds=bounds)\n",
    "start_point = Point(start).buffer(0.4, resolution=3)\n",
    "goal_region = Polygon(goal)\n",
    "plot_poly(ax, start_point,'magenta')\n",
    "plot_poly(ax, goal_region,'green')"
   ]
  },
  {
   "cell_type": "code",
   "execution_count": 3,
   "metadata": {},
   "outputs": [],
   "source": [
    "def find_vertex_avg(obstacle):\n",
    "    x_avg = sum([x[0] for x in obstacle])/len(obstacle)\n",
    "    y_avg = sum([x[1] for x in obstacle])/len(obstacle)\n",
    "    return (x_avg, y_avg)"
   ]
  },
  {
   "cell_type": "code",
   "execution_count": 4,
   "metadata": {},
   "outputs": [],
   "source": [
    "# testing using SCIP via pyscipopt\n",
    "\n",
    "start_point = (1,1)\n",
    "goal_state = (1,7)\n",
    "N = 6\n",
    "timestep = 1\n",
    "T = int(N * timestep)\n",
    "time = list(range(1,N+1))\n",
    "V_max = 1\n",
    "M = 1000000\n",
    "vsts = V_max**2 * timestep**2\n",
    "\n",
    "# TOOD - automate bounds creation\n",
    "bounds = (0, 0, 8, 8)\n",
    "obs_list = [[(3,2), (2,6), (4,5), (6,3)]]\n",
    "\n",
    "## ---------------------------------------------------------------- ##\n",
    "\n",
    "model = Model()\n",
    "\n",
    "# Set x,y decision vars\n",
    "x,y,d,z = {},{},{},{}\n",
    "for t in range(0,N+1):\n",
    "    x[t] = model.addVar(lb=bounds[0], ub=bounds[2], name=\"x(%s)\"%(t))\n",
    "    y[t] = model.addVar(lb=bounds[1], ub=bounds[3], name=\"y(%s)\"%(t))\n",
    "    d[t] = model.addVar(lb = 0, ub = vsts, name=\"d(%s)\"%(t))\n",
    "        \n",
    "# Set objective function\n",
    "# model.setObjective(quicksum((x[t] - x[t-1])*(x[t] - x[t-1]) + (y[t] - y[t-1])*(y[t] - y[t-1]) for t in time))\n",
    "model.setObjective(quicksum(d[t] for t in time), \"minimize\")\n",
    "\n",
    "# Set initial conditions\n",
    "model.addCons(x[0] == start_point[0])\n",
    "model.addCons(y[0] == start_point[1])\n",
    "model.addCons(d[0] == 0)\n",
    "\n",
    "# Set velocity constraint for each time period\n",
    "for t in time:\n",
    "    model.addCons(d[t] >= ((x[t] - x[t-1])**2 + (y[t] - y[t-1])**2))\n",
    "#     model.addCons((x[t] - x[t-1])*(x[t] - x[t-1]) + (y[t] - y[t-1])*(y[t] - y[t-1]) <= V_max**2 * timestep**2)\n",
    "#     model.addCons(d[t] <= vsts)\n",
    "    \n",
    "    # Set distance constraint\n",
    "#     model.addCons(d[t] == (x[t] - x[t-1])*(x[t] - x[t-1]) + (y[t] - y[t-1])*(y[t] - y[t-1]))\n",
    "    \n",
    "    \n",
    "# Set goal state conditions\n",
    "model.addCons(x[T] == goal_state[0])\n",
    "model.addCons(y[T] == goal_state[1])\n",
    "    \n",
    "# Set Obstacle Constraints\n",
    "for idx_obs, obs in enumerate(obs_list):\n",
    "    for idx_v, vertex, in enumerate(obs):\n",
    "        # Create \"z\" slack variables\n",
    "        for t in time:\n",
    "            z[(idx_obs, idx_v, t)] = model.addVar(name=\"z(%s,%s,%s)\"%(idx_obs,idx_v,t), vtype=\"BINARY\")\n",
    "            \n",
    "        vertex1 = obs[idx_v]\n",
    "        vertex2 = obs[(idx_v + 1)%len(obs)] # grab next vertex and loop back to the first for last index\n",
    "        delta_x = vertex2[0] - vertex1[0]\n",
    "        delta_y = vertex2[1] - vertex1[1]\n",
    "        vertex_avg = find_vertex_avg(obs) # known that avg of vertices lies inside convex polygon\n",
    "        if delta_x != 0:  # check if line is vertical\n",
    "            m = delta_y / delta_x\n",
    "            b = vertex1[1] - m * vertex1[0]\n",
    "            if vertex_avg[1] < m * vertex_avg[0] + b:  # then flip constraint\n",
    "                for t in time:\n",
    "                    model.addCons(-1*y[t] <= -1*m * x[t] - b + M*z[(idx_obs, idx_v, t)])\n",
    "            else:\n",
    "                for t in time:\n",
    "                    model.addCons(y[t] <= m * x[t] + b + M*z[(idx_obs, idx_v, t)])\n",
    "        else:\n",
    "            if vertex_avg[0] <= vertex1[0]:  # then flip constraint\n",
    "                for t in time:\n",
    "                    model.addCons(-1*x[t] <= -1*vertex1[0] + M*z[(idx_obs, idx_v, t)])\n",
    "            else:\n",
    "                for t in time:\n",
    "                    model.addCons(x[t] <= vertex1[0] + M*z[(idx_obs, idx_v, t)])\n",
    "    for t in time:            \n",
    "        model.addCons(quicksum(z[(idx_obs,v,t)] for v in range(len(obs))) <= (len(obs) - 1))\n",
    "\n",
    "# model.setObjlimit(.1)\n",
    "\n",
    "model.optimize()"
   ]
  },
  {
   "cell_type": "code",
   "execution_count": 5,
   "metadata": {},
   "outputs": [],
   "source": [
    "path_list = []\n",
    "d_list=[]\n",
    "for t in time:\n",
    "#     x_val.append(x[t].x)\n",
    "#     y_val.append(y[t].x)\n",
    "    path_list.append((model.getVal(x[t]), model.getVal(y[t])))\n",
    "    d_list.append(model.getVal(d[t]))"
   ]
  },
  {
   "cell_type": "code",
   "execution_count": 6,
   "metadata": {},
   "outputs": [],
   "source": [
    "model.printStatistics()"
   ]
  },
  {
   "cell_type": "code",
   "execution_count": 7,
   "metadata": {},
   "outputs": [
    {
     "data": {
      "text/plain": [
       "[0.15683012868961788, 0.0, 0.5222561537601678, 0.0, 0.0, 0.15176481805390551]"
      ]
     },
     "execution_count": 7,
     "metadata": {},
     "output_type": "execute_result"
    }
   ],
   "source": [
    "d_list"
   ]
  },
  {
   "cell_type": "code",
   "execution_count": 8,
   "metadata": {},
   "outputs": [
    {
     "data": {
      "text/plain": [
       "[(0.1249454527374652, 1.3960178401153387),\n",
       " (0.8138816884358786, 2.7652033039448725),\n",
       " (1.5212478584945686, 3.7020026070728296),\n",
       " (0.0, 3.166950692068929),\n",
       " (1.2908814688676138, 6.0432409017577005),\n",
       " (1.0, 7.0)]"
      ]
     },
     "execution_count": 8,
     "metadata": {},
     "output_type": "execute_result"
    }
   ],
   "source": [
    "path_list"
   ]
  },
  {
   "cell_type": "code",
   "execution_count": 9,
   "metadata": {},
   "outputs": [
    {
     "name": "stdout",
     "output_type": "stream",
     "text": [
      "(5.5, 5.5)\n",
      "Obstacle Vertices: \n",
      " [[(3, 2), (2, 6), (4, 5), (6, 3)]]\n"
     ]
    },
    {
     "data": {
      "image/png": "[encoded data removed]",
      "text/plain": [
       "<Figure size 396x396 with 1 Axes>"
      ]
     },
     "metadata": {
      "needs_background": "light"
     },
     "output_type": "display_data"
    }
   ],
   "source": [
    "# Redefine obstacles with radius of droid; treat droid as a point robot\n",
    "ax = plot_env([Polygon(obs_list[0])], start, goal, bounds)\n",
    "\n",
    "for pt in path_list:\n",
    "    t_pt = Point(pt).buffer(0.05, resolution=3)\n",
    "    plot_poly(ax, t_pt, 'black')    \n",
    "\n",
    "\n",
    "print('Obstacle Vertices: \\n', obs_list)"
   ]
  },
  {
   "cell_type": "code",
   "execution_count": null,
   "metadata": {},
   "outputs": [],
   "source": []
  },
  {
   "cell_type": "code",
   "execution_count": 96,
   "metadata": {},
   "outputs": [
    {
     "data": {
      "text/plain": [
       "<matplotlib.legend.Legend at 0x12039bf90>"
      ]
     },
     "execution_count": 96,
     "metadata": {},
     "output_type": "execute_result"
    },
    {
     "data": {
      "image/png": "[encoded data removed]",
      "text/plain": [
       "<Figure size 1008x576 with 1 Axes>"
      ]
     },
     "metadata": {
      "needs_background": "light"
     },
     "output_type": "display_data"
    }
   ],
   "source": [
    "# Test JSON obstacle file\n",
    "\n",
    "with open('notamoon.json') as f:\n",
    "    ex_json_dict = json.load(f)\n",
    "plt.figure(figsize=(14,8))\n",
    "\n",
    "for obs in ex_json_dict['obstacles']:\n",
    "    coord = np.array(obs['geometry']['coordinates'])\n",
    "    plt.plot(coord[:,0],coord[:,1],'-r')\n",
    "\n",
    "plt.gca().set_aspect('equal','box')\n",
    "plt.draw()\n",
    "line1,= plt.plot(coord[:,0],coord[:,1],'-r',label='Obstacles')\n",
    "\n",
    "coord = np.array(ex_json_dict['goal']['geometry']['coordinates'])\n",
    "line2,=plt.plot(coord[:,0],coord[:,1],'k-',label='Goal Region')\n",
    "\n",
    "line3,=plt.plot(0,0,'*b',label='Start Location')\n",
    "plt.legend(handles=[line1,line2,line3],loc='best')\n"
   ]
  },
  {
   "cell_type": "code",
   "execution_count": 127,
   "metadata": {},
   "outputs": [
    {
     "data": {
      "text/plain": [
       "[{'geometry': {'type': 'Polygon',\n",
       "   'coordinates': [[25.161534500739435, 141.03260869582357],\n",
       "    [33.57142857112194, 152.14688981366464],\n",
       "    [-47.857142857310464, 254.90969816548414],\n",
       "    [25.161534500739435, 141.03260869582357]]}},\n",
       " {'geometry': {'type': 'Polygon',\n",
       "   'coordinates': [[-7.801385771699643, 59.18478260884541],\n",
       "    [6.428571428784835, 77.60019999025758],\n",
       "    [19.202192002865104, 113.75000000004576],\n",
       "    [25.161534500739435, 141.03260869582357],\n",
       "    [-47.857142857310464, 254.90969816548414],\n",
       "    [-7.801385771699643, 59.18478260884541]]}}]"
      ]
     },
     "execution_count": 127,
     "metadata": {},
     "output_type": "execute_result"
    }
   ],
   "source": [
    "ex_json_dict['obstacles'][4:6]"
   ]
  },
  {
   "cell_type": "code",
   "execution_count": 126,
   "metadata": {},
   "outputs": [
    {
     "data": {
      "image/png": "[encoded data removed]",
      "text/plain": [
       "<Figure size 1008x576 with 1 Axes>"
      ]
     },
     "metadata": {
      "needs_background": "light"
     },
     "output_type": "display_data"
    }
   ],
   "source": [
    "plt.figure(figsize=(14,8))\n",
    "for obs in ex_json_dict['obstacles'][4:6]:\n",
    "#     obs = ex_json_dict['obstacles'][5]\n",
    "    coord = np.array(obs['geometry']['coordinates'])\n",
    "    plt.plot(coord[:,0],coord[:,1],'-r', label='Obstacles')\n",
    "    plt.axis([-500, 250, -250, 550])\n",
    "\n",
    "\n",
    "\n",
    "# plt.gca().set_aspect('equal','box')\n",
    "# # plt.draw()\n",
    "# # line1,= plt.plot(coord[:,0],coord[:,1],'-r',label='Obstacles')\n",
    "\n",
    "\n",
    "# coord = np.array(ex_json_dict['goal']['geometry']['coordinates'])\n",
    "# line2,=plt.plot(coord[:,0],coord[:,1],'k-',label='Goal Region')\n",
    "\n",
    "# line3,=plt.plot(0,0,'*b',label='Start Location')\n",
    "# plt.legend(handles=[line1,line2,line3],loc='best')"
   ]
  },
  {
   "cell_type": "code",
   "execution_count": 102,
   "metadata": {},
   "outputs": [
    {
     "ename": "KeyboardInterrupt",
     "evalue": "",
     "output_type": "error",
     "traceback": [
      "\u001b[0;31m---------------------------------------------------------------------------\u001b[0m",
      "\u001b[0;31mKeyboardInterrupt\u001b[0m                         Traceback (most recent call last)",
      "\u001b[0;32m<ipython-input-102-d545b5287365>\u001b[0m in \u001b[0;36m<module>\u001b[0;34m\u001b[0m\n\u001b[1;32m      3\u001b[0m     \u001b[0mcoord\u001b[0m \u001b[0;34m=\u001b[0m \u001b[0mobs\u001b[0m\u001b[0;34m[\u001b[0m\u001b[0;34m'geometry'\u001b[0m\u001b[0;34m]\u001b[0m\u001b[0;34m[\u001b[0m\u001b[0;34m'coordinates'\u001b[0m\u001b[0;34m]\u001b[0m\u001b[0;34m\u001b[0m\u001b[0;34m\u001b[0m\u001b[0m\n\u001b[1;32m      4\u001b[0m     \u001b[0mobs_list_nm\u001b[0m\u001b[0;34m.\u001b[0m\u001b[0mappend\u001b[0m\u001b[0;34m(\u001b[0m\u001b[0mcoord\u001b[0m\u001b[0;34m)\u001b[0m\u001b[0;34m\u001b[0m\u001b[0;34m\u001b[0m\u001b[0m\n\u001b[0;32m----> 5\u001b[0;31m     \u001b[0mtm\u001b[0m\u001b[0;34m.\u001b[0m\u001b[0msleep\u001b[0m\u001b[0;34m(\u001b[0m\u001b[0;36m0.5\u001b[0m\u001b[0;34m)\u001b[0m\u001b[0;34m\u001b[0m\u001b[0;34m\u001b[0m\u001b[0m\n\u001b[0m",
      "\u001b[0;31mKeyboardInterrupt\u001b[0m: "
     ]
    }
   ],
   "source": [
    "obs_list_nm = []\n",
    "for obs in ex_json_dict['obstacles']:\n",
    "    coord = obs['geometry']['coordinates']\n",
    "    obs_list_nm.append(coord)\n",
    "\n"
   ]
  },
  {
   "cell_type": "code",
   "execution_count": 70,
   "metadata": {},
   "outputs": [
    {
     "data": {
      "text/plain": [
       "27"
      ]
     },
     "execution_count": 70,
     "metadata": {},
     "output_type": "execute_result"
    }
   ],
   "source": [
    "len(obs_list_nm)"
   ]
  },
  {
   "cell_type": "code",
   "execution_count": null,
   "metadata": {},
   "outputs": [],
   "source": [
    "def create_path_plan_model():\n",
    "    \n",
    "    \n",
    "    \n",
    "    return model"
   ]
  }
 ],
 "metadata": {
  "kernelspec": {
   "display_name": "Python 3",
   "language": "python",
   "name": "python3"
  },
  "language_info": {
   "codemirror_mode": {
    "name": "ipython",
    "version": 3
   },
   "file_extension": ".py",
   "mimetype": "text/x-python",
   "name": "python",
   "nbconvert_exporter": "python",
   "pygments_lexer": "ipython3",
   "version": "3.7.4"
  }
 },
 "nbformat": 4,
 "nbformat_minor": 2
}
