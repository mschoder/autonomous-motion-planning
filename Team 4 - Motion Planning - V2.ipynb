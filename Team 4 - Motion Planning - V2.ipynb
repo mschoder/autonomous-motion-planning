{
 "cells": [
  {
   "cell_type": "code",
   "execution_count": 43,
   "metadata": {
    "scrolled": true
   },
   "outputs": [
    {
     "name": "stdout",
     "output_type": "stream",
     "text": [
      "The autoreload extension is already loaded. To reload it, use:\n",
      "  %reload_ext autoreload\n"
     ]
    }
   ],
   "source": [
    "%load_ext autoreload\n",
    "%autoreload 2\n",
    "%matplotlib inline\n",
    "\n",
    "from motion_planning_utils import *\n",
    "from matplotlib import pyplot as plt\n",
    "import numpy as np\n",
    "from shapely.geometry import Point, Polygon, LineString, box\n",
    "from environment import Environment, plot_environment, plot_line, plot_poly\n",
    "import pyclipper\n",
    "#from pyscipopt import *\n",
    "from gurobipy import *\n",
    "import json\n",
    "import scenarios"
   ]
  },
  {
   "cell_type": "markdown",
   "metadata": {},
   "source": [
    "# Project 4 - Motion Planning"
   ]
  },
  {
   "cell_type": "markdown",
   "metadata": {},
   "source": [
    "### Introduction to Trajectory Optimization\n",
    "As you know, the Big Bad Guy in Black is desperate to find the intruder lurking somewhere aboard the ~~moon~~ space station. He has tasked his droids to travel to each work station and make sure that the intruder isn't trying to deactivate tractor beams or convert young minds to his strange space religion.\n",
    "\n",
    "In this task, we will provide trajectories for each droid, in between workstations. We are\n",
    "given a qualitative state plan with sequences of workstations each robot must visit, as well as a more\n",
    "detailed description of the layout of the ~~moon~~ space station, including obstacles. We will\n",
    "output a set of waypoints and times of arrival at each waypoint."
   ]
  },
  {
   "cell_type": "markdown",
   "metadata": {},
   "source": [
    "## Robot Dynamics\n",
    "\n",
    "In this part, we will incorporate robot dynamics using a discrete time model. The initial location, goal locations, the geometry of space station and obstacles, and vehicle speed limits are the inputs. We ignore acceleration constraints, and will solve an optimization problem to minimize distance. We will simplify the problem by treating the robot as a point mass as well. \n",
    "\n",
    "Under these assumptions, a generalized dynamic equation can be written in the form:\n",
    "\n",
    "$$\\begin{array}{c}\n",
    "& s_{t+1} = A_ds_t + B_du_t \\\\\\\n",
    "\\end{array}$$\n",
    "\n",
    "where:\n",
    "- $s_t$ is state (postion and velocity) of the robot at time step $t$\n",
    "- $A_d$ describes the dynamics relationship between position and velocity\n",
    "- $B_d$ describes the dynamics relationship between control input and velocity\n",
    "- $u_t$ is the control input at time step $t$\n",
    "- $\\Delta t$ is the time step size within total time $T$\n",
    "\n",
    "In our simplified robot dynamics system, we will ignore control inputs and model dynamics as a function of position and time only. The maximum velocity will be formulated as a constraint on position variables at consecutive time steps. We can therefore system dynamics to be of the form:\n",
    "\n",
    "$$\\begin{array}{c}\n",
    "& s_{t+1} = A_ds_t \\\\\\\n",
    "\\end{array}$$\n",
    "\n",
    "We can translate this equation into the matrix form:\n",
    "\n",
    "$$  \\begin{pmatrix}x_{t+1}\\\\y_{t+1}\\end{pmatrix} = \\begin{pmatrix}1&0& \\bigtriangleup t &0\\\\0&1&0&\\bigtriangleup t\\end{pmatrix}  \\begin{pmatrix}x_{t}\\\\y_{t}\\\\\\dot{x}_{t}\\\\\\dot{y}_{t}\\end{pmatrix}$$\n"
   ]
  },
  {
   "cell_type": "markdown",
   "metadata": {},
   "source": [
    "## Modeling the problem using a mathematical programming formulation\n",
    "\n",
    "### Choosing Decision Variables\n",
    "$$\n",
    "\\begin{array}{c}\n",
    "x_t \\text{ is the x-position at time step } i \\text{ for } i \\in [0,1,...,T]\\\\ \n",
    "y_t \\text{ is the y-position at time step } i \\text{ for } i \\in [0,1,...,T]\\\\ \n",
    "\\end{array}\n",
    "$$\n",
    "\n",
    "\n",
    "### Designing an Objective Function\n",
    "Since the goal is to minimize distance traveled, our objective function will seek to minimize the cumulative distance traveled during each consecutive time step. The distance between any two time steps $t-1$ and $t$ is given by:\n",
    "\n",
    "$$\n",
    "\\begin{array}{c}\n",
    "\\sqrt{(x_t - x_{t-1})^2 + (y_t - y_{t-1})^2}\\\\  \n",
    "\\end{array}\n",
    "$$\n",
    "\n",
    "In order to remove the complicating square-root from our objective function, we can instead minimize the square of distance, which gives us the following objective function:\n",
    "\n",
    "$$\n",
    "\\begin{array}{c}\n",
    "\\text{OBJ: min}_t  \\sum_1^T{(x_t - x_{t-1})^2 + (y_t - y_{t-1})^2}\\\\  \n",
    "\\end{array}\n",
    "$$\n",
    "\n",
    "\n",
    "\n"
   ]
  },
  {
   "cell_type": "markdown",
   "metadata": {},
   "source": [
    "### Modeling Maximum Velocity Constraint\n",
    "Since our system is discretized into constant-duration time steps $\\Delta t$, we can model coordinate component velocity as the change position at any time step t:\n",
    "\n",
    "$$\n",
    "\\begin{array}{c}\n",
    "\\dot{x} = (x_t - x_{t-1})/\\Delta t\\\\\n",
    "\\dot{y} = (y_t - y_{t-1})/\\Delta t\\\\\n",
    "\\\\\n",
    "\\text{and then the square of velocity becomes:}\\\\\n",
    "\\\\\n",
    "v^2 = [(x_t - x_{t-1})^2 + (y_t - y_{t-1})^2] / \\Delta t^2\\\\\n",
    "\\end{array}\n",
    "$$\n",
    "\n",
    "$$\n",
    "\\begin{array}{c}\n",
    "\\text{If } u \\text{ is the maximum velocity permitted, then } \\lVert v \\rVert \\le u\\text{, so our constraint can be written as: } \\\\\n",
    "\\\\\n",
    "(x_t - x_{t-1})^2 + (y_t - y_{t-1})^2 \\le v^2 \\Delta t^2 \\quad \\forall t\\\\\n",
    "\\end{array}\n",
    "$$\n",
    "\n",
    "Note that this constraint complicates the problem from a numerical solving efficiency standpoint -- the quadratic constraint brings us into the realm of Mixed-Integer Quadratically-Constrainted Programming (MIQCP)"
   ]
  },
  {
   "cell_type": "markdown",
   "metadata": {},
   "source": [
    "### Encoding obstacles as constraints\n",
    "\n",
    "Since all the obstacles in this problem are stationary, we can easily encode convex polygonal obstacles using linear constraints. Concave shapes can be dealt with by discretizing them into multiple convex objects, or by setting a convex boundary that encompasses the entire shape.\n",
    "\n",
    "<img src=\"simple_sq_obs.png\" style=\"width:50%;\"/>\n",
    "\n",
    "In the example scenario above, the obstacle is a rectangle shaped by $[x_{min}, x_{max}]$ and $[y_{min}, y_{max}]$. The positional constraint ensuring the obstacle is avoided can be expressed by: \n",
    "\n",
    "$$\\begin{array}{l}\n",
    "& \\forall t  \\in [1,2,3,..., T]:\\\\\n",
    "& x_t \\leq x_{min}\\\\\n",
    "\\text{or} & x_t \\geq x_{max}\\\\\n",
    "\\text{or} & y_t \\leq y_{min}\\\\\n",
    "\\text{or} & y_t \\geq y_{max}\\\\\n",
    "\\end{array}$$\n",
    "\n",
    "However, to make these constraints useful in solving a linear program, we need to reformulate the constraints to get rid of the \"OR\" statements and convert them to \"AND\" statements. To do this, we introduce the notion of the binary variable $z_{j,k}$:  \n",
    "\n",
    "$$\\begin{array}{l}\n",
    "&& z_{j,k} \\in [0,1]\\\\\n",
    "&\\text{where} & j \\in [1,2,3,...J]\\\\\n",
    " && k \\in [1,2,3,...K_j]\\\\\n",
    " && J \\text{ is the number of polygon obstacles}\\\\\n",
    " && k \\text{ is the index of each side of polygon obstacle j with $K_j$ total sides}\\\\\n",
    "\\end{array}$$\n",
    "\n",
    "The binary variable $z_{j,k}$ is known as a _slack_ variable. A _slack_ variable allows us to transform and inequality into an equality, or in this case, an \"OR\" statement into an \"AND\" statement. For example, take the following inequality:\n",
    "\n",
    "\\begin{equation}\n",
    "\\bf{A}x \\leq b\n",
    "\\end{equation}\n",
    "\n",
    "We introduce the slack variable $z \\geq 0$ which allows us to transform the above inequality into the following equality:\n",
    "\n",
    "\\begin{equation}\n",
    "\\bf{A}x + z = b\n",
    "\\end{equation}\n",
    "\n",
    "Because $z$ can compensate for the \"slack\" between b and $\\bf{A}x$ and make it so that $\\bf{A}x + z$ is always equal to $b$.\n",
    "\n",
    "Therefore, for our simple rectangle example, to transform the \"OR\" statements into \"AND\" statements, we use $z_{i,k}$ together with an arbitrarily large positive number $M$ (referred to as \"Big-M\" notation\").\n",
    "\n",
    "$$\\begin{array}{l}\n",
    "& \\forall t \\in [1,2,..., T]: \\\\\n",
    "& x_t \\leq x_{min} + M z_{1,1} \\\\\n",
    "\\text{and} & -x_t \\leq -x_{max} + M z_{1,2} \\\\\n",
    "\\text{and} & y_t \\leq y_{min} + M z_{1,3} \\\\\n",
    "\\text{and} & -y_t \\leq -y_{max} + M z_{1,4} \\\\\n",
    "\\text{and} & \\Sigma_{k=1}^{4} z_{j,k} \\leq 3 \\\\\n",
    "\\end{array}$$\n",
    "\n",
    "\n",
    "For example, $z_{j,1}=0$ if $x_t \\leq x_{min}$. If $x_t \\gt x_{min}$, then $z_{j,1}=1$ and since $M$ is a large positive number, we satisfy the constraint that $x_t \\leq x_{min} + M z_{j,1}$. In order to classify a position $(x_t,y_t)$ as within obstacle $j$, then $\\Sigma_{k=1}^{4} z_{j,k} = 4$ which has the same meaning as all of the \"OR\" statements in the previous section being false.\n"
   ]
  },
  {
   "cell_type": "markdown",
   "metadata": {},
   "source": [
    "## Generalizing constraints for a n-sided polygon\n",
    "The extension of the constraint enumeration to an obstacle shaped as a n-sided polygon is fairly trivial; the number of per-obstacle constraint equations is always $n+1$ with the last constraint equation resembling:\n",
    "$$\\Sigma_{k=1}^{n} z_{j,k} \\leq n-1$$\n",
    "\n",
    "The challenge in extending the obstacle encoding problem to obstacles shaped as n-sided polygons is the fact that an edge of the obstacle could _not_ be orthogonal to either the environment's X or Y axes. \n",
    "\n",
    "To begin, each polygon will have $n$ sides. We will denote each side with a pair of coordinates that correspond to the two vertexes that define the edges of the side; therefore, side $n_k = \\{(x_{j,k},y_{j,k}),(x_{j,k'},y_{j,k'})\\}$ such that $k \\in [1,2,..n], k \\neq k'$. From here, we can define a line segment for each side of the polygon\n",
    "\n",
    "$$y_{j,k} = A_{j,k} x_{j,k} + b_{j,k}$$\n",
    "\n",
    "Where $A_{j,k}$ is the slope of each side $l$. We can calculate $A_{j,k}$ by\n",
    "\n",
    "$$A_{j,k} = \\frac{y_{j,k'}-y_{j,k}}{x_{j,k'}-x_{j,k}}\\quad s.t.\\quad x_{j,k'}-x_{j,k} \\neq 0\\quad and \\quad y_{j,k'}-y_{j,k} \\neq 0$$\n",
    "\n",
    "and calculate $b_{j,k}$ by substituting a point along the side for the values $(x_{j,k},y_{j,k})$ and solving for $b_{j,k}$. If $x_{j,k'}-x_{j,k} = 0$ or $y_{j,k'}-y_{j,k} = 0$, the side is parallel to the y-axis and x-axis, respectively. In these cases, the constraint equation for the side follows from the previous section. All sides that are not orthogonal to an axis can be represented by the following constraint equation:\n",
    "\n",
    "$$y_{t} \\leq A_{j,k}x_t + b_{j,k} + M z_{j,k}$$\n",
    "\n",
    "Where $z_{j,k}$ and $M$ carry forward from the previous section. Therefore, the full set of constraint equations for sides of a rectangle whose sides are not orthogonal to either the x-axis or y-axis can be described by the following:\n",
    "\n",
    "$$\\begin{array}{l}\n",
    "&\\forall i \\in [1,2,...,N]:\\\\\n",
    " & y_t \\leq A_{j,1}x_{t} + b_{j,1} + M z_{j,1}\\\\\n",
    "\\text{and} & -y_t \\leq -A_{j,2}x_{t} - b_{j,2} + M z_{j,2}\\\\\n",
    "\\text{and} & y_t \\leq A_{j,3}x_{t} + b_{j,3} + M z_{j,3}\\\\\n",
    "\\text{and} & -y_t \\leq -A_{j,4}x_{t} - b_{j,4} + M z_{j,4}\\\\\n",
    "\\text{and} & ...\\\\\n",
    "\\text{and} & -y_t \\leq -A_{j,N}x_{t} - b_{j,N} + M z_{j,N}\\\\\n",
    "\\text{and} & \\Sigma_{k=1}^{N} z_{j,k} \\leq N-1\\\\\n",
    "\\end{array}$$"
   ]
  },
  {
   "cell_type": "markdown",
   "metadata": {},
   "source": [
    "### Encoding Goal Constraints\n",
    "Ultimately, the robot must know whether or not it has arrived at the workstation. The constraints for the goal are almost the exact opposite as the constraints for an obstacle. Instead of the requiring the robot's position to lie outside of the polygon (in the case of an obstacle), the robot's position must lie within the polygon.\n",
    "\n",
    "In the obstacle constraint case, we needed to introduce the slack variable $z$ and the large constant $M$ because as long as all of the slack variables for a specific obstacle were not 1, the robot's position was outside of the polygon. For the case of the goal, however, the robot must satisfy all of the polygon's constraints. Therefore, for a 4 sided polygon the constraints can be listed as the following:\n",
    "\n",
    "$$\\begin{array}{l}\n",
    "& t = T\\\\\n",
    "& x_t \\geq x_{min}\\\\\n",
    "\\text{and} & -x_t \\geq -x_{max}\\\\\n",
    "\\text{and} & y_t \\geq y_{min}\\\\\n",
    "\\text{and} & -y_t \\geq -y_{max}\\\\\n",
    "\\end{array}$$\n",
    "\n",
    "Note that this constraint only applies to the last itme index since we are considering a fixed arrival time, so the robot must arrive at the goal in the last time index."
   ]
  },
  {
   "cell_type": "markdown",
   "metadata": {},
   "source": [
    "### Determining the Direction of the Obstacle and Goal Inequalities\n",
    "When considering a problem with multiple convex obstacles, it is necessary to develop an algorithm that will consistently return the appropriate direction of the obstacle inequalities. For obstacles, the robot's position must lie either above, below, to the left, or to the right of the constraint depending on which boundary the constraint lies upon. \n",
    "\n",
    "If we know a point within the obstacle or within the goal, we can determine the direction of the obstacle and goal inequalities. Since the obstacles and goals are convex, if we take the average of all of the $x$ positions and $y$ positions of the vertices and form a new point with those averages, we are guaranteed to find a point within the polygon. \n",
    "\n",
    "$$\\begin{array}{l}\n",
    "x_{inside} = \\Sigma_{i}^{N} \\frac{V_{x}[i]}{N} \\\\\n",
    "y_{inside} = \\Sigma_{i}^{N} \\frac{V_{y}[i]}{N} \\\\\n",
    "\\end{array}$$\n",
    "\n",
    "Such that $N$ is the number of vertices and $V[i]$ corresponds to the $(x,y)$ coordinate of vertex $i$. Using the $x$ and $y$ position of the point inside the polygon we can determine the direction of the inequality for each constraint. For the case of obstacles, if $y_{inside} \\leq y_t$ then we know the constraint forms an upper boundary on the polygon and that we must flip the direction of the inequality for the obstacle constraint. The opposite is true for any goal polygon.\n",
    "\n",
    "Feel free to change the number and location of the vertices in the following example to demonstrate how the average of all the vertex points creates a point inside of a convex polygon."
   ]
  },
  {
   "cell_type": "code",
   "execution_count": 44,
   "metadata": {},
   "outputs": [],
   "source": [
    "# Note we can also use this function, which is implemented later on:\n",
    "%psource find_vertex_avg"
   ]
  },
  {
   "cell_type": "code",
   "execution_count": 45,
   "metadata": {},
   "outputs": [
    {
     "name": "stdout",
     "output_type": "stream",
     "text": [
      "(5.5, 5.5)\n"
     ]
    },
    {
     "data": {
      "image/png": "[encoded data removed]",
      "text/plain": [
       "<Figure size 396x396 with 1 Axes>"
      ]
     },
     "metadata": {
      "needs_background": "light"
     },
     "output_type": "display_data"
    }
   ],
   "source": [
    "obstacle = [(3,2), (2,6), (4,5), (6,3)]\n",
    "start = (1,1)\n",
    "goal = [(6,6), (6,7), (7,7), (7, 6)]\n",
    "\n",
    "env = Environment(None)\n",
    "env.add_obstacles([Polygon(obstacle)])\n",
    "bounds = (0, 0, 8, 8)\n",
    "ax = plot_environment(env, bounds=bounds)\n",
    "\n",
    "x_inside = 0\n",
    "y_inside = 0\n",
    "N = len(obstacle)\n",
    "for vertex in obstacle:\n",
    "    x_inside = x_inside + vertex[0]*(1/N)\n",
    "    y_inside = y_inside + vertex[1]*(1/N)\n",
    "inside_point = (x_inside,y_inside)\n",
    "    \n",
    "start_point = Point(inside_point).buffer(0.1, resolution=3)\n",
    "goal_region = Polygon(goal)\n",
    "plot_poly(ax, start_point,'red')"
   ]
  },
  {
   "cell_type": "markdown",
   "metadata": {},
   "source": [
    "## Simple Robot Path Planning - Single Obstacle\n",
    "\n",
    "We'll start by considering a simplified version of our ultimate problem, and examine constraint-based path planning throgh a single-obstacle environment to reach a single goal. In an 8x8 unit environment, we define our problem conditions as follows:\n",
    "\n",
    "- Robot Start Point: `(1,1)`\n",
    "- Goal Region: Rectangle region bounded by `[(6,6), (6,7), (7,7), (7, 6)]`\n",
    "- Obstacles: Single obstacle bounded by `[(3,2), (2,6), (4,5), (6,3)]`\n",
    "\n",
    "Our goal will be to minimize distance traveled.\n",
    "\n",
    "Run the code in the next cell to preview the starting environment.\n",
    "\n"
   ]
  },
  {
   "cell_type": "code",
   "execution_count": 46,
   "metadata": {},
   "outputs": [
    {
     "name": "stdout",
     "output_type": "stream",
     "text": [
      "(5.5, 5.5)\n"
     ]
    },
    {
     "data": {
      "image/png": "[encoded data removed]",
      "text/plain": [
       "<Figure size 396x396 with 1 Axes>"
      ]
     },
     "metadata": {
      "needs_background": "light"
     },
     "output_type": "display_data"
    }
   ],
   "source": [
    "# Sample Problem\n",
    "obstacles = [(3,2), (2,6), (4,5), (6,3)]\n",
    "start = (1,1)\n",
    "goal = [(6,6), (6,7), (7,7), (7, 6)]\n",
    "\n",
    "env = Environment(None)\n",
    "env.add_obstacles([Polygon(obstacles)])\n",
    "bounds = (0, 0, 8, 8)\n",
    "ax = plot_environment(env, bounds=bounds)\n",
    "start_point = Point(start).buffer(0.4, resolution=3)\n",
    "goal_region = Polygon(goal)\n",
    "plot_poly(ax, start_point,'magenta')\n",
    "plot_poly(ax, goal_region,'green')"
   ]
  },
  {
   "cell_type": "markdown",
   "metadata": {},
   "source": [
    "In order to simplify the problem, we would like to treat our robot as a point object. To do this, we add a buffer, equal to the robot's radius, to every obstacle in the environment. This allows us to consider the robot as a point, rather than a moving area, and still take into account the robot's size to avoid collision with obstacles. \n",
    "\n",
    "To make this easy, we'll use the `pyclipper` package to create the buffer. The example code below performs this task for our example environment and obstacle, using functions defined in the `motion_planning_utils` file:"
   ]
  },
  {
   "cell_type": "code",
   "execution_count": 47,
   "metadata": {},
   "outputs": [
    {
     "name": "stdout",
     "output_type": "stream",
     "text": [
      "(5.5, 5.5)\n",
      "Buffered Obstacle Vertices: \n",
      " [[[6.3702459167689085, 2.9125967952422798], [4.118471829220653, 5.164370882790536], [1.7005063081160188, 6.373353643342853], [2.8583532432094216, 1.7419659039005637]]]\n"
     ]
    },
    {
     "data": {
      "image/png": "[encoded data removed]",
      "text/plain": [
       "<Figure size 396x396 with 1 Axes>"
      ]
     },
     "metadata": {
      "needs_background": "light"
     },
     "output_type": "display_data"
    }
   ],
   "source": [
    "# Redefine obstacles with radius of droid; treat droid as a point robot\n",
    "buff_obs = grow_obstacles(obstacles)\n",
    "plot_env([Polygon(buff_obs[0])], start, goal, bounds)\n",
    "# plot_env([Polygon(obstacles)], start, goal, bounds)\n",
    "print('Buffered Obstacle Vertices: \\n', buff_obs)"
   ]
  },
  {
   "cell_type": "markdown",
   "metadata": {},
   "source": [
    "## Constraint Encoding Using PySCIPOpt Interface and SCIP Solver\n",
    "\n",
    "After constructing the path planning problem as a MIQCP problem, we must encode the variables, objective function, and constraints and feed this into a solver. [PySCIPOpt](https://github.com/SCIP-Interfaces/PySCIPOpt) is a commonly-used python interface for the open-source [SCIP Solver](https://scip.zib.de/). \n",
    "\n",
    "The general outline is: \n",
    " - Specify variables\n",
    " - Specify contraints over these variables\n",
    " - Construct a model with the constraints\n",
    " - Construct the solver using that model\n",
    " - Call `solve()` and extract results from variables using `get_value()`\n",
    " \n",
    "As the variables and constraints are already defined above, the following section provides and example encoding of our trivial problem with a single obstacle."
   ]
  },
  {
   "cell_type": "markdown",
   "metadata": {},
   "source": [
    "**Note: Currently using Gurobi Solver instead of SCIP**"
   ]
  },
  {
   "cell_type": "markdown",
   "metadata": {},
   "source": [
    "Run the cell below to view the source code to see how the optimization problem for path planning can be generated programatically, given a list of obstacles and the other problem definitions outlined above.\n",
    "\n",
    "A note on our implementation:\n",
    "- We use a `buffer` value to shift each constraint line so that the path cannot be on the obstacle edge. This is necessary because of the inability to use strict inequality constraints in the LP solver. The `buffer` can also be used to account for the width of the robot, to allow us to treat a real object as a point object. "
   ]
  },
  {
   "cell_type": "code",
   "execution_count": 48,
   "metadata": {},
   "outputs": [],
   "source": [
    "%psource create_model"
   ]
  },
  {
   "cell_type": "markdown",
   "metadata": {},
   "source": [
    "### Examples\n",
    "Run the code below to test an example environment. Feel free to try some of the different obstacle variations by loading various environments in the `scenarios.py` file"
   ]
  },
  {
   "cell_type": "code",
   "execution_count": 105,
   "metadata": {},
   "outputs": [],
   "source": [
    "### Load appropriate dictionary from scenarios.py\n",
    "\n",
    "# locals().update(scenarios.one_obstacle)\n",
    "# locals().update(scenarios.two_obstacle)\n",
    "# locals().update(scenarios.quad_boxes)\n",
    "locals().update(scenarios.five_obstacle)"
   ]
  },
  {
   "cell_type": "code",
   "execution_count": 109,
   "metadata": {},
   "outputs": [
    {
     "name": "stdout",
     "output_type": "stream",
     "text": [
      "Optimize a model with 1022 rows, 882 columns and 3022 nonzeros\n",
      "Model has 162 quadratic objective terms\n",
      "Model has 40 quadratic constraints\n",
      "Variable types: 82 continuous, 800 integer (800 binary)\n",
      "Coefficient statistics:\n",
      "  Matrix range     [2e-01, 1e+06]\n",
      "  QMatrix range    [1e+00, 2e+00]\n",
      "  Objective range  [0e+00, 0e+00]\n",
      "  QObjective range [2e+00, 4e+00]\n",
      "  Bounds range     [1e+00, 2e+01]\n",
      "  RHS range        [3e-01, 2e+01]\n",
      "  QRHS range       [2e-01, 2e-01]\n",
      "Presolve removed 97 rows and 63 columns\n",
      "Presolve time: 0.00s\n",
      "Presolved: 925 rows, 819 columns, 2772 nonzeros\n",
      "Presolved model has 158 quadratic objective terms\n",
      "Variable types: 80 continuous, 739 integer (739 binary)\n",
      "\n",
      "Root relaxation: objective 7.200120e+00, 1433 iterations, 0.02 seconds\n",
      "\n",
      "    Nodes    |    Current Node    |     Objective Bounds      |     Work\n",
      " Expl Unexpl |  Obj  Depth IntInf | Incumbent    BestBd   Gap | It/Node Time\n",
      "\n",
      "     0     0    7.20012    0  454          -    7.20012      -     -    0s\n",
      "     0     0    7.20012    0  549          -    7.20012      -     -    0s\n",
      "     0     2    7.20012    0  549          -    7.20012      -     -    0s\n",
      "H 4112   969                       9.2744735    7.27017  21.6%  16.0    3s\n",
      "* 4112   969             269       9.2744735    7.27017  21.6%  16.0    3s\n",
      "H 5055  1109                       8.6830768    7.74182  10.8%  16.3    4s\n",
      "* 5143  1050             115       8.6830753    7.74182  10.8%  16.2    4s\n",
      "H 5647  1029                       8.6806974    7.80848  10.0%  16.1    4s\n",
      "  5648  1030    7.99916   45  128    8.68070    7.80848  10.0%  16.1    5s\n",
      "H 6890   712                       8.6531978    8.00545  7.49%  16.8    5s\n",
      "H11293     3                       8.6531972    8.61727  0.42%  17.7    7s\n",
      "\n",
      "Cutting planes:\n",
      "  Learned: 43\n",
      "  Cover: 67\n",
      "  Clique: 23\n",
      "  MIR: 13\n",
      "  StrongCG: 2\n",
      "  Flow cover: 44\n",
      "  Zero half: 1\n",
      "\n",
      "Explored 11370 nodes (202377 simplex iterations) in 7.93 seconds\n",
      "Thread count was 8 (of 8 available processors)\n",
      "\n",
      "Solution count 6: 8.6532 8.6532 8.6807 ... 9.27447\n",
      "\n",
      "Optimal solution found (tolerance 1.00e-04)\n",
      "Warning: max constraint violation (8.8233e-06) exceeds tolerance\n",
      "Best objective 8.653197202385e+00, best bound 8.653197202385e+00, gap 0.0000%\n",
      "Path Distance:  18.590131754198204\n",
      "(5.5, 5.5)\n"
     ]
    },
    {
     "data": {
      "image/png": "[encoded data removed]",
      "text/plain": [
       "<Figure size 396x396 with 1 Axes>"
      ]
     },
     "metadata": {
      "needs_background": "light"
     },
     "output_type": "display_data"
    }
   ],
   "source": [
    "# Set problem parameters\n",
    "N = 40\n",
    "timestep = 1\n",
    "V_max = .5\n",
    "buffer = 1e-4\n",
    "\n",
    "# Build model & optimize\n",
    "m, x, y, bounds = create_model(start, goal, obs_list, N, timestep, V_max, buffer)\n",
    "m.optimize()\n",
    "\n",
    "path_list, dist = parse_model_path(x,y)\n",
    "\n",
    "# Plot\n",
    "print(\"Path Distance: \", sum(dist))\n",
    "ax = plot_env(obs_list, start, goal, bounds, Environment(None))\n",
    "for pt in path_list:\n",
    "    t_pt = Point(pt).buffer(0.05, resolution=3)\n",
    "    plot_poly(ax, t_pt, 'black')    "
   ]
  },
  {
   "cell_type": "markdown",
   "metadata": {},
   "source": [
    "## Main Problem - Path Planning\n",
    "\n",
    "You are currently located on our robot is currently located at start point `(0,0)`. It needs to find an optimal path to the goal region, defined as `[goal region]`, where the your communications equipment is located, in order to send out a message in time to warn your fellow comrades of the pending arrival of space intruders. There is a large obstacle of complex geometry that separates your robot from the goal region. The obstacle is actually comprised of many sub-obstacles that were compiled from multiple radar cross-sections, as shown below:"
   ]
  },
  {
   "cell_type": "code",
   "execution_count": 65,
   "metadata": {},
   "outputs": [
    {
     "data": {
      "text/plain": [
       "<matplotlib.legend.Legend at 0x101d29a10>"
      ]
     },
     "execution_count": 65,
     "metadata": {},
     "output_type": "execute_result"
    },
    {
     "data": {
      "image/png": "[encoded data removed]",
      "text/plain": [
       "<Figure size 1008x576 with 1 Axes>"
      ]
     },
     "metadata": {
      "needs_background": "light"
     },
     "output_type": "display_data"
    }
   ],
   "source": [
    "# Test JSON obstacle file\n",
    "with open('notamoon.json') as f:\n",
    "    ex_json_dict = json.load(f)\n",
    "plt.figure(figsize=(14,8))\n",
    "\n",
    "for obs in ex_json_dict['obstacles']:\n",
    "    coord = np.array(obs['geometry']['coordinates'])\n",
    "    plt.plot(coord[:,0],coord[:,1],'-r')\n",
    "\n",
    "plt.gca().set_aspect('equal','box')\n",
    "plt.draw()\n",
    "line1,= plt.plot(coord[:,0],coord[:,1],'-r',label='Obstacles')\n",
    "\n",
    "coord = np.array(ex_json_dict['goal']['geometry']['coordinates'])\n",
    "line2,=plt.plot(coord[:,0],coord[:,1],'k-',label='Goal Region')\n",
    "\n",
    "line3,=plt.plot(0,0,'*b',label='Start Location')\n",
    "plt.legend(handles=[line1,line2,line3],loc='best')"
   ]
  },
  {
   "cell_type": "markdown",
   "metadata": {},
   "source": [
    "In order to formulate the obstacles and goal region properly for our model-builder function, we must do some pre-processing to remove duplicate points in each obstacle or goal object."
   ]
  },
  {
   "cell_type": "code",
   "execution_count": 77,
   "metadata": {},
   "outputs": [],
   "source": [
    "obs_list_nm = process_json_obstacles(ex_json_dict, remove_duplicates=True)\n",
    "obs_list_nmd = process_json_obstacles(ex_json_dict)\n",
    "\n",
    "goal_region = ex_json_dict['goal']['geometry']['coordinates'][:-1]"
   ]
  },
  {
   "cell_type": "markdown",
   "metadata": {},
   "source": [
    "New we are ready to build and solve the model using the same code presented above:"
   ]
  },
  {
   "cell_type": "code",
   "execution_count": 85,
   "metadata": {},
   "outputs": [
    {
     "name": "stdout",
     "output_type": "stream",
     "text": [
      "Changed value of parameter SolutionLimit to 10\n",
      "   Prev: 2000000000  Min: 1  Max: 2000000000  Default: 2000000000\n",
      "Optimize a model with 1690 rows, 1332 columns and 5230 nonzeros\n",
      "Model has 42 quadratic objective terms\n",
      "Model has 10 quadratic constraints\n",
      "Variable types: 22 continuous, 1310 integer (1310 binary)\n",
      "Coefficient statistics:\n",
      "  Matrix range     [6e-02, 1e+06]\n",
      "  QMatrix range    [1e+00, 2e+00]\n",
      "  Objective range  [0e+00, 0e+00]\n",
      "  QObjective range [2e+00, 4e+00]\n",
      "  Bounds range     [1e+00, 5e+02]\n",
      "  RHS range        [2e-01, 7e+04]\n",
      "  QRHS range       [2e+04, 2e+04]\n",
      "Presolve removed 337 rows and 197 columns\n",
      "Presolve time: 0.01s\n",
      "Presolved: 1353 rows, 1135 columns, 4368 nonzeros\n",
      "Presolved model has 38 quadratic objective terms\n",
      "Variable types: 20 continuous, 1115 integer (1115 binary)\n",
      "\n",
      "Root relaxation: objective 7.344100e+03, 2166 iterations, 0.06 seconds\n",
      "\n",
      "    Nodes    |    Current Node    |     Objective Bounds      |     Work\n",
      " Expl Unexpl |  Obj  Depth IntInf | Incumbent    BestBd   Gap | It/Node Time\n",
      "\n",
      "     0     0 7344.10000    0  733          - 7344.10000      -     -    0s\n",
      "     0     0 7344.10000    0  689          - 7344.10000      -     -    0s\n",
      "     0     2 7344.10000    0  689          - 7344.10000      -     -    0s\n",
      "  9256  5992 159057.187  371  180          - 9438.06486      -  21.7    5s\n",
      " 21624 14014 infeasible  315               - 10053.6379      -  21.0   10s\n",
      " 34374 22343 14633.3870  338  215          - 10224.0948      -  20.3   15s\n",
      " 46927 30483 12899.0800  307  303          - 10380.8058      -  19.8   20s\n",
      " 59810 38261 22680.6399  376  128          - 10555.6953      -  19.6   25s\n",
      " 70339 44815 13422.8614  297  262          - 10690.2903      -  19.8   30s\n",
      " 83414 53118 99910.0178  304  232          - 10819.6815      -  19.7   35s\n",
      " 95318 60519 infeasible  363               - 10863.2790      -  19.7   40s\n",
      " 107250 67702 15634.2850  355  150          - 10957.0413      -  19.6   45s\n",
      " 118108 74205 20830.2538  341  187          - 11068.9004      -  19.6   50s\n",
      " 129585 81156 infeasible  355               - 11152.1914      -  19.6   55s\n",
      " 141189 88393 22251.3505  376  179          - 11218.8555      -  19.4   60s\n",
      " 152332 95304 49920.8312  324  180          - 11262.3153      -  19.2   65s\n",
      " 163086 102222 23221.2834  378  114          - 11305.8660      -  19.1   70s\n",
      " 175087 109345 323339.022  368  179          - 11356.0849      -  19.1   75s\n",
      " 188836 117179 infeasible  261               - 11440.2390      -  19.0   80s\n",
      " 198390 123813 infeasible  309               - 11448.6004      -  19.2   85s\n",
      " 210502 131351 11512.8414  326  239          - 11508.0440      -  19.2   90s\n",
      " 222786 139078 30391.2714  247  337          - 11577.2855      -  19.0   95s\n",
      " 233639 145907 infeasible  253               - 11595.5596      -  19.0  100s\n",
      " 244657 152478 53935.7302  380  156          - 11641.8909      -  19.0  105s\n",
      " 256254 159807 43367.6740  333  242          - 11688.5907      -  18.9  110s\n",
      " 266511 165771 32317.8051  374  155          - 11728.0258      -  18.9  115s\n",
      " 277768 172661 127429.196  327  217          - 11773.4787      -  18.9  120s\n",
      " 289430 179360 13680.6651  318  248          - 11815.4464      -  18.8  125s\n",
      " 300507 186575 infeasible  343               - 11853.4541      -  18.7  130s\n",
      " 309352 192213 19352.0217  249  410          - 11865.6637      -  18.7  135s\n",
      " 317824 198150 infeasible  304               - 11865.6637      -  18.7  140s\n",
      " 327255 203902 24641.6043  262  221          - 11899.1482      -  18.8  145s\n",
      " 336567 209345 69384.1021  295  163          - 11926.3649      -  18.9  150s\n",
      " 347857 216345 62732.2129  342  274          - 11953.8615      -  18.8  155s\n",
      " 358212 222581 infeasible  363               - 11974.5503      -  18.8  160s\n",
      " 366595 227985 12782.5776  345  238          - 11981.3374      -  18.8  165s\n",
      " 377114 234347 infeasible  339               - 12000.0635      -  18.9  170s\n",
      " 388177 241453 infeasible  378               - 12017.5770      -  18.8  175s\n",
      " 398146 247744 68223.0044  269  252          - 12019.9638      -  18.8  180s\n",
      " 409681 254491 12045.3875  286  331          - 12043.2759      -  18.8  185s\n",
      " 420026 260807 12072.4706  341  248          - 12067.2386      -  18.8  190s\n",
      " 432278 268353 18417.6862  317  221          - 12096.8469      -  18.7  195s\n",
      " 444073 276082 infeasible  281               - 12117.2214      -  18.7  200s\n",
      " 456436 284482 infeasible  369               - 12139.6184      -  18.6  205s\n",
      " 467410 291462 53579.8204  305  270          - 12168.4010      -  18.6  210s\n",
      " 478785 298266 14060.3688  254  306          - 12186.9932      -  18.5  215s\n",
      " 489487 305135 infeasible  272               - 12214.6098      -  18.5  220s\n",
      " 500731 312203 44970.6312  361  187          - 12248.3441      -  18.5  225s\n",
      " 510871 318853 40525.7287  334  266          - 12267.4950      -  18.4  230s\n",
      " 520587 324537 infeasible  343               - 12292.1637      -  18.4  235s\n",
      " 530335 330543 22152.5963  255  280          - 12310.9300      -  18.4  240s\n",
      " 539507 336269 79164.0159  352   89          - 12324.7833      -  18.4  245s\n",
      " 550948 342884 44943.5895  354  179          - 12343.5910      -  18.4  250s\n",
      " 561378 349245 33795.7497  249  191          - 12369.9599      -  18.4  255s\n",
      " 572154 356297 105009.396  340  199          - 12386.1587      -  18.3  260s\n",
      " 582324 362604 33427.4237  261  298          - 12402.9900      -  18.3  265s\n",
      " 593987 369927 98266.0281  397   83          - 12430.6680      -  18.3  270s\n",
      " 606092 377251 29701.0793  261  308          - 12457.9235      -  18.2  275s\n",
      " 617055 383525 14409.0373  238  400          - 12470.4632      -  18.2  280s\n",
      " 629350 391303 47029.4583  370  188          - 12491.1817      -  18.2  285s\n",
      " 639949 397995 48610.6549  259  255          - 12501.5724      -  18.2  290s\n",
      " 651120 405184 99011.0302  354  173          - 12508.0277      -  18.2  295s\n",
      " 661946 411434 13588.2651  306  249          - 12531.2276      -  18.2  300s\n",
      " 673061 417988 infeasible  318               - 12549.2790      -  18.2  305s\n",
      " 681981 423576 infeasible  381               - 12560.5898      -  18.1  310s\n",
      " 695207 432211 62874.0541  304  190          - 12570.6995      -  18.1  315s\n",
      " 706000 439040 22307.0297  328  171          - 12582.4698      -  18.1  320s\n",
      " 715807 445324 13888.9053  358  192          - 12601.0830      -  18.1  325s\n",
      " 725026 451388 14607.2018  246  290          - 12611.8052      -  18.0  330s\n",
      " 736032 458622 28715.4929  311  246          - 12615.8202      -  18.0  335s\n",
      " 749487 466859 infeasible  316               - 12632.3008      -  17.9  340s\n",
      " 760766 474084 22143.5163  342  187          - 12642.2453      -  17.9  345s\n",
      " 770555 479803 infeasible  388               - 12662.0212      -  18.0  350s\n",
      " 782421 487172 14692.2151  330  179          - 12681.1914      -  17.9  355s\n",
      " 792680 493213 214413.219  257  258          - 12690.6060      -  17.9  360s\n",
      " 802781 499238 infeasible  363               - 12706.6327      -  18.0  365s\n",
      " 812885 505703 infeasible  332               - 12713.5774      -  18.0  370s\n",
      " 823853 512227 infeasible  255               - 12721.5687      -  17.9  375s\n",
      " 834302 518657 infeasible  379               - 12732.1270      -  17.9  380s\n",
      " 844601 524917 52347.4739  332  244          - 12746.0643      -  17.9  385s\n",
      " 856283 532145 32921.2276  254  214          - 12755.2549      -  17.9  390s\n",
      " 865782 538092 infeasible  375               - 12763.8428      -  17.9  395s\n",
      " 875159 544103 82766.1346  353  254          - 12771.2656      -  17.9  400s\n",
      " 886015 550717 36206.6702  334  290          - 12775.5343      -  17.9  405s\n",
      " 895481 556611 40705.7581  326  231          - 12785.6642      -  17.9  410s\n",
      " 906994 563513 infeasible  321               - 12801.8165      -  17.8  415s\n",
      " 916954 569680 36714.3290  355  143          - 12817.6728      -  17.8  420s\n",
      " 928397 576965 infeasible  276               - 12829.9270      -  17.8  425s\n",
      " 937395 583162 41282.1685  338  214          - 12831.0573      -  17.8  430s\n",
      " 947468 589085 21014.2596  325  207          - 12839.8711      -  17.8  435s\n",
      " 959514 596718 77195.6768  353  145          - 12859.2814      -  17.8  440s\n",
      " 970156 603304 32054.5319  288  190          - 12873.9247      -  17.8  445s\n",
      " 980683 609896 17692.1850  300  264          - 12881.9418      -  17.8  450s\n",
      " 991760 616747 60600.1252  352  158          - 12897.3201      -  17.8  455s\n"
     ]
    },
    {
     "name": "stdout",
     "output_type": "stream",
     "text": [
      " 1003036 623551 12912.9869  370  163          - 12912.9869      -  17.8  460s\n",
      " 1013250 630071 infeasible  398               - 12918.5002      -  17.8  465s\n",
      " 1023738 636104 infeasible  250               - 12931.5327      -  17.8  470s\n",
      " 1033939 642131 12945.7532  274  269          - 12945.7532      -  17.8  475s\n",
      " 1046313 649957 56432.8817  346  149          - 12955.1609      -  17.8  480s\n",
      " 1058783 657792 27993.2000  398  130          - 12968.5755      -  17.8  485s\n",
      " 1070713 665171 33161.7286  361  166          - 12984.7395      -  17.7  490s\n",
      " 1082990 672917 24489.6452  378  129          - 12999.1506      -  17.7  495s\n",
      " 1097056 681705 21095.6383  289  233          - 13008.5129      -  17.7  500s\n",
      " 1110999 690698 15855.5580  338  217          - 13015.6471      -  17.7  505s\n",
      " 1123206 697913 22739.3171  284  215          - 13026.6317      -  17.6  510s\n",
      " 1137093 706246 14097.5752  354  179          - 13044.8011      -  17.6  515s\n",
      " 1147583 712614 49511.7384  341  209          - 13051.7397      -  17.6  520s\n",
      " 1160969 721010 14920.3596  280  269          - 13064.3952      -  17.6  525s\n",
      " 1173498 728719 26894.2233  344  191          - 13071.7150      -  17.6  530s\n",
      " 1184740 735392 111620.603  392  113          - 13083.2304      -  17.6  535s\n",
      " 1196427 742423 infeasible  387               - 13094.4919      -  17.6  540s\n",
      " 1209818 750058 infeasible  340               - 13107.1815      -  17.6  545s\n",
      " 1220170 756210 infeasible  361               - 13116.3079      -  17.6  550s\n",
      " 1232501 763205 13824.2835  312  253          - 13132.0086      -  17.6  555s\n",
      " 1244412 770433 24899.8261  241  291          - 13141.2521      -  17.6  560s\n",
      " 1257976 778673 41068.9032  314  154          - 13152.9120      -  17.6  565s\n",
      " 1271539 787177 26497.8109  309  273          - 13162.6056      -  17.5  570s\n",
      " 1287101 796293 17231.6881  357  128          - 13179.9409      -  17.5  575s\n",
      " 1300771 804043 44184.8858  321  188          - 13192.8775      -  17.5  580s\n",
      " 1312527 811073 60087.0522  365  171          - 13199.1611      -  17.5  585s\n",
      " 1327369 820055 infeasible  372               - 13211.9021      -  17.5  590s\n",
      " 1340660 828362 48511.0474  258  278          - 13222.6524      -  17.5  595s\n",
      " 1354347 836591 39118.7505  373  157          - 13243.5380      -  17.5  600s\n",
      " 1367747 844852 21123.6352  344  193          - 13250.1414      -  17.4  605s\n",
      " 1381191 853042 27727.9077  325  157          - 13261.3494      -  17.4  610s\n",
      " 1395057 861484 42242.9037  366  129          - 13272.6745      -  17.4  615s\n",
      " 1408600 869928 13280.7976  344  195          - 13280.7976      -  17.4  620s\n",
      " 1421711 877405 infeasible  352               - 13289.6068      -  17.4  625s\n",
      " 1435342 885514 41891.6765  337  169          - 13299.0292      -  17.4  630s\n",
      " 1449162 893768 29706.1820  363  100          - 13309.2952      -  17.4  635s\n",
      " 1463766 902756 19897.3962  332  148          - 13322.4955      -  17.4  640s\n",
      " 1475388 910009 infeasible  331               - 13322.4955      -  17.3  645s\n",
      " 1488129 918090 51476.2660  277  270          - 13322.4955      -  17.3  650s\n",
      " 1500413 925700 57311.6527  422  126          - 13325.0156      -  17.3  655s\n",
      " 1512068 932703 23049.4543  293  155          - 13327.6644      -  17.3  660s\n",
      " 1524227 940237 infeasible  311               - 13330.4967      -  17.3  665s\n",
      " 1535129 946807 infeasible  281               - 13338.7354      -  17.3  670s\n",
      " 1547538 953912 34303.5398  397   92          - 13353.3677      -  17.3  675s\n",
      " 1559995 961200 49504.6234  281  329          - 13363.8088      -  17.3  680s\n",
      " 1574248 969374 infeasible  398               - 13374.7633      -  17.3  685s\n",
      " 1586267 976783 infeasible  314               - 13383.5650      -  17.3  690s\n",
      " 1598016 984465 56948.9178  290  247          - 13383.5650      -  17.3  695s\n",
      " 1610860 992332 57790.4666  282  290          - 13391.3553      -  17.3  700s\n",
      " 1622629 999953 39295.2528  344  154          - 13397.0162      -  17.3  705s\n",
      " 1635263 1007293 15842.8886  368  113          - 13410.4875      -  17.3  710s\n",
      " 1647481 1014728 48367.4646  296  161          - 13412.1829      -  17.3  715s\n",
      " 1657626 1020162 26329.3891  274  181          - 13421.2849      -  17.3  720s\n",
      " 1669893 1027629 infeasible  292               - 13426.4205      -  17.3  725s\n",
      " 1681152 1034333 57746.9891  347  140          - 13434.2197      -  17.3  730s\n",
      " 1694904 1042474 48936.5917  387   86          - 13450.4167      -  17.3  735s\n",
      " 1707530 1050098 75463.3362  392   95          - 13463.5029      -  17.3  740s\n",
      " 1721610 1058642 infeasible  378               - 13478.1204      -  17.3  745s\n",
      " 1734480 1066147 infeasible  312               - 13491.3124      -  17.3  750s\n",
      " 1746253 1073947 57176.0566  372  153          - 13494.7553      -  17.3  755s\n",
      " 1758317 1080963 13522.3125  332  272          - 13511.7528      -  17.3  760s\n",
      " 1771218 1088540 infeasible  320               - 13520.0675      -  17.3  765s\n",
      " 1782035 1095412 infeasible  382               - 13523.5931      -  17.3  770s\n",
      " 1795075 1103746 57177.8573  306  186          - 13529.0001      -  17.2  775s\n",
      " 1806729 1110738 53037.8353  283  168          - 13531.5753      -  17.2  780s\n",
      " 1820665 1119419 50345.2403  266  251          - 13531.5753      -  17.2  785s\n",
      " 1833700 1127344 infeasible  312               - 13534.4396      -  17.2  790s\n",
      " 1845585 1134330 41370.2991  320  193          - 13540.6642      -  17.2  795s\n",
      " 1857809 1142110 17199.8522  282  250          - 13549.3444      -  17.2  800s\n",
      " 1870541 1149963 30786.0667  297  171          - 13554.2682      -  17.2  805s\n",
      " 1883078 1157611 14866.5405  243  279          - 13562.2478      -  17.2  810s\n",
      " 1894555 1164464 100415.470  296  159          - 13570.0699      -  17.2  815s\n",
      " 1911239 1174751 infeasible  305               - 13575.2855      -  17.2  820s\n",
      " 1922697 1181775 infeasible  259               - 13575.2855      -  17.2  825s\n",
      " 1935951 1189879 67004.5958  259  223          - 13587.3591      -  17.1  830s\n",
      " 1949042 1197526 59882.3036  297  167          - 13594.5614      -  17.1  835s\n",
      " 1963101 1206053 13603.7574  359  219          - 13603.2386      -  17.1  840s\n",
      " 1973646 1213152 131941.477  391  111          - 13603.8593      -  17.1  845s\n",
      " 1986662 1221287 19050.5507  298  278          - 13611.7575      -  17.1  850s\n",
      " 1999061 1228414 73736.5988  360   78          - 13623.6221      -  17.1  855s\n",
      " 2012849 1236163 28742.1741  374   86          - 13635.8787      -  17.1  860s\n",
      " 2026695 1244515 56192.2178  375  198          - 13645.3275      -  17.1  865s\n",
      " 2038639 1251510 21989.3298  325  190          - 13654.7515      -  17.1  870s\n",
      " 2052347 1260585 47448.1018  394  132          - 13660.4788      -  17.1  875s\n",
      " 2066078 1269215 45698.2714  337  158          - 13668.6747      -  17.1  880s\n",
      " 2080605 1277932 14371.7133  304  237          - 13680.4315      -  17.1  885s\n",
      " 2095087 1287474 27269.6001  297  164          - 13684.8556      -  17.1  890s\n",
      " 2107948 1295575 42457.9101  316  212          - 13692.9825      -  17.0  895s\n",
      " 2121223 1303550 48585.9664  285  218          - 13700.6355      -  17.0  900s\n",
      " 2134861 1311632 infeasible  380               - 13708.7117      -  17.0  905s\n",
      " 2147642 1319912 13712.5083  297  269          - 13712.5083      -  17.0  910s\n",
      " 2161320 1328937 18623.8653  292  226          - 13715.9743      -  17.0  915s\n",
      " 2174300 1336949 infeasible  292               - 13724.7106      -  17.0  920s\n",
      " 2186962 1344232 infeasible  420               - 13733.0666      -  17.0  925s\n",
      " 2198836 1351190 25231.3035  258  217          - 13741.4591      -  17.0  930s\n",
      " 2212517 1359681 13746.4441  263  257          - 13745.0147      -  17.0  935s\n",
      " 2225584 1367756 79778.4783  359  122          - 13749.8744      -  17.0  940s\n",
      " 2239341 1375879 64847.8765  303  234          - 13756.9958      -  16.9  945s\n",
      " 2253173 1384120 infeasible  402               - 13765.7902      -  16.9  950s\n",
      " 2266620 1392704 infeasible  327               - 13772.9734      -  16.9  955s\n",
      " 2279371 1400212 51161.6084  260  263          - 13781.9480      -  16.9  960s\n",
      " 2292622 1408337 73991.5486  288  194          - 13789.5309      -  16.9  965s\n",
      " 2306494 1416866 16612.9665  390  147          - 13797.0655      -  16.9  970s\n",
      " 2320735 1425466 infeasible  331               - 13804.4573      -  16.9  975s\n",
      " 2335643 1434702 infeasible  288               - 13808.9345      -  16.9  980s\n"
     ]
    },
    {
     "name": "stdout",
     "output_type": "stream",
     "text": [
      " 2348749 1442632 22879.5956  391  112          - 13821.4597      -  16.9  985s\n",
      " 2362556 1451173 infeasible  401               - 13828.1566      -  16.9  990s\n",
      " 2375202 1459196 58342.9636  280  207          - 13833.6014      -  16.9  995s\n",
      " 2387888 1467113 33099.4570  265  261          - 13839.0530      -  16.9 1000s\n",
      " 2400441 1475179 20797.2651  339  189          - 13844.6600      -  16.9 1005s\n",
      " 2413871 1484030 48647.2833  380  133          - 13849.3046      -  16.9 1010s\n",
      " 2424595 1489960 34720.5758  397  114          - 13857.8751      -  16.9 1015s\n",
      " 2439948 1499228 45292.6730  343  195          - 13871.0924      -  16.8 1020s\n",
      " 2454977 1508762 infeasible  320               - 13875.6977      -  16.8 1025s\n",
      " 2467958 1516449 23085.6962  287  268          - 13881.3154      -  16.8 1030s\n",
      " 2479982 1523643 34259.2511  320  193          - 13890.8863      -  16.8 1035s\n",
      " 2493273 1531621 45589.8675  378  183          - 13897.6751      -  16.8 1040s\n",
      " 2506749 1539702 16517.5722  368  162          - 13906.0430      -  16.8 1045s\n",
      " 2520812 1547944 22664.2418  346  141          - 13915.9105      -  16.8 1050s\n",
      " 2535138 1555975 29089.4072  364  152          - 13923.9228      -  16.8 1055s\n",
      " 2550019 1564654 16586.8828  344  280          - 13931.8820      -  16.8 1060s\n",
      " 2563803 1572602 52941.3722  276  338          - 13942.8097      -  16.8 1065s\n",
      " 2576659 1580198 95292.4927  382  143          - 13952.6151      -  16.8 1070s\n",
      " 2590094 1588362 infeasible  301               - 13958.3910      -  16.8 1075s\n",
      " 2603724 1596569 58792.3021  377  155          - 13964.9526      -  16.8 1080s\n",
      " 2615140 1603361 84945.9043  236  388          - 13968.7067      -  16.8 1085s\n",
      " 2629025 1611341 21677.1810  339  138          - 13979.0463      -  16.8 1090s\n",
      " 2642380 1620085 59724.6612  323  146          - 13986.4304      -  16.8 1095s\n",
      " 2656876 1629372 31021.0344  380  126          - 13987.6095      -  16.8 1100s\n",
      " 2670280 1637229 44341.1356  376  161          - 13995.6231      -  16.8 1105s\n",
      " 2682922 1644522 infeasible  336               - 14001.1610      -  16.8 1110s\n",
      " 2695644 1651963 42139.4346  305  288          - 14008.3587      -  16.8 1115s\n",
      " 2708330 1659508 infeasible  357               - 14013.8023      -  16.8 1120s\n",
      " 2721458 1667166 infeasible  358               - 14020.0355      -  16.8 1125s\n",
      " 2734828 1675541 47751.0895  277  280          - 14028.4419      -  16.8 1130s\n",
      " 2748039 1683965 77286.3121  370   90          - 14032.7484      -  16.8 1135s\n",
      " 2760931 1691949 infeasible  405               - 14037.6447      -  16.8 1140s\n",
      " 2773652 1699299 16670.6849  330  180          - 14048.6228      -  16.8 1145s\n",
      " 2786856 1707203 44936.0047  331  195          - 14059.5426      -  16.8 1150s\n",
      " 2797929 1713699 infeasible  351               - 14060.8306      -  16.8 1155s\n",
      " 2813079 1723025 36155.5693  309  130          - 14065.6931      -  16.7 1160s\n",
      " 2825219 1730316 28182.6922  312  173          - 14069.9841      -  16.8 1165s\n",
      " 2838252 1738064 30227.7374  308  231          - 14080.0221      -  16.8 1170s\n",
      " 2852488 1746109 infeasible  284               - 14089.1053      -  16.8 1175s\n",
      " 2864810 1753119 63823.3119  325  178          - 14097.0608      -  16.7 1180s\n",
      " 2876095 1759500 14204.1230  283  271          - 14100.8529      -  16.8 1185s\n",
      " 2887490 1766322 infeasible  302               - 14107.0332      -  16.8 1190s\n",
      " 2901086 1774535 14113.4193  282  287          - 14113.4193      -  16.7 1195s\n",
      " 2915550 1783457 20211.7260  302  231          - 14120.3738      -  16.7 1200s\n",
      " 2928632 1790916 70117.0897  351  172          - 14125.3113      -  16.7 1205s\n",
      " 2942278 1798734 29848.6150  343  306          - 14133.6716      -  16.7 1210s\n",
      " 2953948 1805415 35114.7740  271  247          - 14139.9290      -  16.7 1215s\n",
      " 2968858 1814017 15175.3449  270  277          - 14146.9475      -  16.7 1220s\n",
      " 2981773 1822175 39663.9875  256  371          - 14154.5670      -  16.7 1225s\n",
      " 2993254 1829665 61345.3805  350  110          - 14156.1498      -  16.7 1230s\n",
      " 3007063 1838036 25757.4901  293  240          - 14158.0840      -  16.7 1235s\n",
      " 3019271 1845208 infeasible  369               - 14164.9647      -  16.7 1240s\n",
      " 3030556 1851633 69279.4312  394  126          - 14169.1265      -  16.7 1245s\n",
      " 3042864 1859129 18341.5557  358  129          - 14177.1385      -  16.7 1250s\n",
      " 3054943 1865922 34579.1019  317  201          - 14186.6014      -  16.7 1255s\n",
      " 3066939 1872904 infeasible  295               - 14191.3718      -  16.7 1260s\n",
      " 3081549 1881842 34109.2287  271  259          - 14195.8174      -  16.7 1265s\n",
      " 3092753 1888381 infeasible  340               - 14198.4538      -  16.7 1270s\n",
      " 3103857 1894579 83303.0460  350  139          - 14204.3506      -  16.7 1275s\n",
      " 3117563 1902239 infeasible  361               - 14211.6529      -  16.7 1280s\n",
      " 3129789 1909430 38986.3271  367  235          - 14217.3775      -  16.7 1285s\n",
      " 3141977 1916493 41123.0929  359  178          - 14226.2353      -  16.7 1290s\n",
      " 3155511 1924322 25623.5190  309  296          - 14229.2544      -  16.7 1295s\n",
      " 3169079 1932306 infeasible  323               - 14231.3416      -  16.7 1300s\n",
      " 3182847 1940516 infeasible  371               - 14239.1119      -  16.7 1305s\n",
      " 3194658 1947488 33924.0312  325  174          - 14246.4648      -  16.7 1310s\n",
      " 3208765 1956347 14704.3161  342  198          - 14248.4231      -  16.6 1315s\n",
      " 3222086 1964318 57937.1163  302  157          - 14249.0632      -  16.6 1320s\n",
      " 3237213 1973540 25223.5024  370  122          - 14253.6199      -  16.6 1325s\n",
      " 3248467 1979934 38234.5354  340  140          - 14258.0223      -  16.6 1330s\n",
      " 3262064 1987827 infeasible  377               - 14264.6455      -  16.6 1335s\n",
      " 3274291 1994885 16646.9188  316  286          - 14268.6701      -  16.6 1340s\n",
      " 3287063 2003021 64679.8048  268  239          - 14274.0337      -  16.6 1345s\n",
      " 3300050 2010409 infeasible  325               - 14278.7844      -  16.6 1350s\n",
      " 3314135 2018633 16714.7181  321  167          - 14287.1841      -  16.6 1355s\n",
      " 3328454 2026993 32203.0128  353  189          - 14293.9060      -  16.6 1360s\n",
      " 3341859 2034751 14499.9116  326  227          - 14295.5263      -  16.6 1365s\n",
      " 3356158 2043052 95435.7869  403  128          - 14305.6011      -  16.6 1370s\n",
      " 3370837 2051647 15536.7168  364  187          - 14309.9453      -  16.6 1375s\n",
      " 3383747 2059139 infeasible  356               - 14315.2354      -  16.6 1380s\n",
      " 3397036 2066828 infeasible  383               - 14321.3210      -  16.6 1385s\n",
      " 3410235 2074234 21824.5400  311  175          - 14328.0263      -  16.6 1390s\n",
      "H3419569 1692667                    98173.611868 14332.7230  85.4%  16.6 1395s\n",
      "H3420854 1668432                    95156.634044 14332.7230  84.9%  16.6 1395s\n",
      "H3421165 1652442                    93311.004942 14332.7230  84.6%  16.6 1396s\n",
      "H3421232 1651247                    93179.883825 14332.7230  84.6%  16.6 1396s\n",
      "H3422992 1615036                    89251.340154 14334.1058  83.9%  16.6 1397s\n",
      " 3427247 1617522 32016.0393  311  163 89251.3402 14336.1795  83.9%  16.6 1400s\n",
      " 3437642 1622577 14342.0600  356  212 89251.3402 14341.8831  83.9%  16.6 1405s\n",
      "H3437908 1611539                    88179.690851 14341.8831  83.7%  16.6 1405s\n",
      "H3437993 1611574                    88179.690795 14341.9784  83.7%  16.6 1406s\n",
      "H3437999 1611574                    88179.690754 14341.9784  83.7%  16.6 1406s\n",
      "H3438013 1611473                    88171.492511 14341.9784  83.7%  16.6 1406s\n",
      "H3438162 1611512                    88171.492499 14341.9784  83.7%  16.6 1407s\n",
      "\n",
      "Cutting planes:\n",
      "  Learned: 203\n",
      "\n",
      "Explored 3438192 nodes (56988981 simplex iterations) in 1407.82 seconds\n",
      "Thread count was 8 (of 8 available processors)\n",
      "\n",
      "Solution count 10: 88171.5 88171.5 88179.7 ... 98173.6\n",
      "\n",
      "Solution limit reached\n",
      "Warning: max constraint violation (2.5271e-06) exceeds tolerance\n",
      "Best objective 8.817149249917e+04, best bound 1.434197839349e+04, gap 83.7340%\n"
     ]
    }
   ],
   "source": [
    "start = (0,0)\n",
    "goal = goal_region\n",
    "N = 10\n",
    "timestep = 1.3\n",
    "V_max = 100\n",
    "buffer = 1\n",
    "obs_list = obs_list_nm\n",
    "\n",
    "m,x,y,bounds = create_model(start, goal, obs_list, N, timestep, V_max, buffer)\n",
    "\n",
    "# Cutoff after 10 solutions so it doesn't run forever (optional)\n",
    "m.params.SolutionLimit = 10\n",
    "m.optimize()"
   ]
  },
  {
   "cell_type": "code",
   "execution_count": 87,
   "metadata": {},
   "outputs": [
    {
     "name": "stdout",
     "output_type": "stream",
     "text": [
      "Path Distance:  913.0474337687848\n"
     ]
    },
    {
     "data": {
      "text/plain": [
       "[<matplotlib.lines.Line2D at 0x112757b90>]"
      ]
     },
     "execution_count": 87,
     "metadata": {},
     "output_type": "execute_result"
    },
    {
     "data": {
      "image/png": "[encoded data removed]",
      "text/plain": [
       "<Figure size 1008x576 with 1 Axes>"
      ]
     },
     "metadata": {
      "needs_background": "light"
     },
     "output_type": "display_data"
    }
   ],
   "source": [
    "path_list, dist = parse_model_path(x,y)\n",
    "print(\"Path Distance: \", sum(dist))\n",
    "\n",
    "plt.figure(figsize=(14,8))\n",
    "for obs in obs_list_nmd:\n",
    "    xcoords = [obs[c][0] for c in range(len(obs))]\n",
    "    ycoords = [obs[c][1] for c in range(len(obs))]\n",
    "    plt.plot(xcoords,ycoords,'-r')\n",
    "\n",
    "plt.gca().set_aspect('equal','box')\n",
    "plt.draw()\n",
    "# line1,= plt.plot(coord[:,0],coord[:,1],'-r',label='Obstacles')\n",
    "\n",
    "coord = np.array(ex_json_dict['goal']['geometry']['coordinates'])\n",
    "line2,=plt.plot(coord[:,0],coord[:,1],'k-',label='Goal Region')\n",
    "\n",
    "line3,=plt.plot(0,0,'*b',label='Start Location')\n",
    "plt.legend(handles=[line1,line2,line3],loc='best')\n",
    "\n",
    "xp = [i[0] for i in path_list]\n",
    "yp = [i[1] for i in path_list]\n",
    "plt.plot(xp,yp, linestyle='--', marker='o', color='b')"
   ]
  },
  {
   "cell_type": "markdown",
   "metadata": {},
   "source": [
    "### **Solver Selection**\n",
    "\n",
    "Since the problem contains quadratic constraints, we should select specific solver to solve the problem. Two possbile solvers are SCIP and Gurobi. \n",
    "\n",
    "Gurobi Optimizer is the the fastest and most powerful mathematical programming solver available for LP, QP and MIP (MILP, MIQP, and MIQCP) problems, although Gurobi is not open-source.\n",
    "\n",
    "SCIP is currently one of the fastest non-commercial solvers for mixed integer programming (MIP) and mixed integer nonlinear programming (MINLP). It is also a framework for constraint integer programming and branch-cut-and-price. It allows for total control of the solution process and the access of detailed information down to the guts of the solver.\n",
    "\n",
    "Both the two solvers are fast and easy to implement with PySCIPOpt, and syntax is nearly identical. "
   ]
  },
  {
   "cell_type": "markdown",
   "metadata": {},
   "source": [
    "## Conclusion\n",
    "- Discussion of results\n",
    "- Considerations for added complexity (multi-vehicle, fixed arrival time, etc)"
   ]
  },
  {
   "cell_type": "code",
   "execution_count": null,
   "metadata": {},
   "outputs": [],
   "source": []
  }
 ],
 "metadata": {
  "kernelspec": {
   "display_name": "Python 3",
   "language": "python",
   "name": "python3"
  },
  "language_info": {
   "codemirror_mode": {
    "name": "ipython",
    "version": 3
   },
   "file_extension": ".py",
   "mimetype": "text/x-python",
   "name": "python",
   "nbconvert_exporter": "python",
   "pygments_lexer": "ipython3",
   "version": "3.7.4"
  }
 },
 "nbformat": 4,
 "nbformat_minor": 2
}
