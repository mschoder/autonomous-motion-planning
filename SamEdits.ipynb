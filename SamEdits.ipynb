{
 "cells": [
  {
   "cell_type": "code",
   "execution_count": 1,
   "metadata": {
    "scrolled": true
   },
   "outputs": [],
   "source": [
    "%load_ext autoreload\n",
    "%autoreload 2\n",
    "%matplotlib inline\n",
    "from matplotlib import pyplot as plt\n",
    "import numpy as np\n",
    "from shapely.geometry import Point, Polygon, LineString, box\n",
    "from environment import Environment, plot_environment, plot_line, plot_poly\n",
    "import pyclipper"
   ]
  },
  {
   "cell_type": "markdown",
   "metadata": {},
   "source": [
    "# Project 4 - Motion Planning"
   ]
  },
  {
   "cell_type": "markdown",
   "metadata": {},
   "source": [
    "### Introduction to Trajectory Optimization\n",
    "- Introduce dynamics equations As + Bu = z\n",
    "- Single obstacle encoding as constraints\n",
    "    - Demonstrate creating a convex polygon bound\n",
    "    - Show constraint formulation for OR constraints using big M notation\n",
    "- Speed limit\n",
    "    - Quadratic constraint on s'\n",
    "\n",
    "## Simple Robot Path Planning - Single Obstacle\n",
    "\n",
    "We'll start by considering a simplified version of our ultimate problem, and examine constraint-based path planning throgh a single-obstacle environment to reach a single goal. In an 8x8 unit environment, we define our problem conditions as follows:\n",
    "\n",
    "- Robot Start Point: `(1,1)`\n",
    "- Goal Region: Rectangle region bounded by `[(6,6), (6,7), (7,7), (7, 6)]`\n",
    "- Obstacles: Single obstacle bounded by `[(3,2), (2,5), (6,3)]`\n",
    "\n",
    "Our goal will be to minimize distance traveled.\n",
    "\n",
    "Run the code in the next cell to preview the starting environment.\n",
    "\n"
   ]
  },
  {
   "cell_type": "code",
   "execution_count": 2,
   "metadata": {},
   "outputs": [
    {
     "name": "stdout",
     "output_type": "stream",
     "text": [
      "(5.5, 5.5)\n"
     ]
    },
    {
     "data": {
      "image/png": "[encoded data removed]",
      "text/plain": [
       "<Figure size 396x396 with 1 Axes>"
      ]
     },
     "metadata": {
      "needs_background": "light"
     },
     "output_type": "display_data"
    }
   ],
   "source": [
    "# Sample Problem\n",
    "obstacles = [(3,2), (2,5), (6,3)]\n",
    "start = (1,1)\n",
    "goal = [(6,6), (6,7), (7,7), (7, 6)]\n",
    "\n",
    "env = Environment(None)\n",
    "env.add_obstacles([Polygon(obstacles)])\n",
    "bounds = (0, 0, 8, 8)\n",
    "ax = plot_environment(env, bounds=bounds)\n",
    "start_point = Point(start).buffer(0.4, resolution=3)\n",
    "goal_region = Polygon(goal)\n",
    "plot_poly(ax, start_point,'magenta')\n",
    "plot_poly(ax, goal_region,'green')"
   ]
  },
  {
   "cell_type": "markdown",
   "metadata": {},
   "source": [
    "In order to simplify the problem, we would like to treat our robot as a point object. To do this, we add a buffer, equal to the robot's radius, to every obstacle in the environment. This allows us to consider the robot as a point, rather than a moving area, and still take into account the robot's size to avoid collision with obstacles. \n",
    "\n",
    "To make this easy, we'll use the `pyclipper` package to create the buffer. The example code below performs this task for our example environment and obstacle:"
   ]
  },
  {
   "cell_type": "code",
   "execution_count": 3,
   "metadata": {},
   "outputs": [
    {
     "name": "stdout",
     "output_type": "stream",
     "text": [
      "(5.5, 5.5)\n",
      "Buffered Obstacles: \n",
      " [[[6.521310369484127, 2.9629516126587987], [1.6575750685296953, 5.394819263368845], [2.8735088938847184, 1.7470177877694368]]]\n"
     ]
    },
    {
     "data": {
      "image/png": "[encoded data removed]",
      "text/plain": [
       "<Figure size 396x396 with 1 Axes>"
      ]
     },
     "metadata": {
      "needs_background": "light"
     },
     "output_type": "display_data"
    }
   ],
   "source": [
    "# Redefine obstacles with radius of droid; treat droid as a point robot\n",
    "obs = (obstacles)\n",
    "pco = pyclipper.PyclipperOffset()\n",
    "pco.MiterLimit = 10\n",
    "pco.AddPath(pyclipper.scale_to_clipper(obs), pyclipper.JT_MITER, pyclipper.ET_CLOSEDPOLYGON)\n",
    "buff_obs = pyclipper.scale_from_clipper(pco.Execute(pyclipper.scale_to_clipper(.2)))\n",
    "\n",
    "env = Environment(None)\n",
    "env.add_obstacles([Polygon(buff_obs[0])])\n",
    "bounds = (0, 0, 8, 8)\n",
    "ax = plot_environment(env, bounds=bounds)\n",
    "start_point = Point(start).buffer(0.1, resolution=3)\n",
    "goal_region = Polygon(goal)\n",
    "plot_poly(ax, start_point,'magenta')\n",
    "plot_poly(ax, goal_region,'green')\n",
    "\n",
    "print('Buffered Obstacles: \\n', buff_obs)"
   ]
  },
  {
   "cell_type": "markdown",
   "metadata": {},
   "source": [
    "**Dynamics equations:** \n",
    "\n",
    "In this part, we will incorporate robot dynamics, time (arrival) constraints. The initial location, goal locations, the geometry of factory and obstacles, and vehicle speed limits are the inputs. In this case, we assume that the robots always move at the top speed to meet the time constraints. And the effect of acceleration is ignored, which means that the robot can always move at the desired velocity at a given time. And all the physical parameters of the robots are the same. \n",
    "\n",
    "Under these assumptions, the only dynamic equation can be written as:\n",
    "\n",
    "$$ s = u*t $$\n",
    "\n",
    "where s is the distance the robot can travel; u is the max velocity; and t is the time duration. And it can be translated into the matrix form:\n",
    "\n",
    "$$  \\begin{pmatrix}x_{i+1}\\\\y_{i+1}\\\\\\dot{x}_{i+1}\\\\\\dot{y}_{i+1}\\end{pmatrix} = \\begin{pmatrix}1&0& \\bigtriangleup t &0\\\\0&1&0&\\bigtriangleup t\\\\0&0&1&0\\\\0&0&0&1\\end{pmatrix}  \\begin{pmatrix}x_{i}\\\\y_{i}\\\\\\dot{x}_{i}\\\\\\dot{y}_{i}\\end{pmatrix}$$\n"
   ]
  },
  {
   "cell_type": "markdown",
   "metadata": {},
   "source": [
    "### Obstacle encoding as constraints\n",
    "\n",
    "Since all the obstacles in this problem are stationary, we can easily encode arbitrarily shaped obstacles using constraints. And exactly 1 of them must be applied. And the concave shape can be dealt with by chopping them into multiple convex objects, or by setting a convex boundary that encompasses the entire shape.\n",
    "\n",
    "For example, if the obstacle is a square shaped by $[x_{min}, x_{max}]$ and $[y_{min}, y_{max}]$. The obstacle can be expressed by: \n",
    "\n",
    "$$  \\forall i  \\in [1,2,3,...,]:$$\n",
    "$$ x_i \\leq x_{min}$$\n",
    "or $$ x_i \\geq x_{max}$$\n",
    "or $$ y_i \\leq y_{min}$$\n",
    "or $$  y_i \\geq y_{max}$$\n",
    "\n",
    "And for the workstations in this task formed by straight lines, the constraints can be expressed with the line function for each edge.\n",
    "\n",
    "#### Next we must reformulate these constraints to get rid of the \"OR\" statements, as this would make the program non-linear\n",
    "\n",
    "Carrying forward the example of the square shaped by $[x_{min}, x_{max}]$ and $[y_{min}, y_{max}]$, we introduce the notion of the binary variable $t_{i,k}$ where $i \\in [1,2,3,...L]$, $L$ is the number of obstacles, and $k$ is the index of each side of the square such that $k \\in [1,2,3,4]$. The binary variable $t_{i,k}$ is known as a _slack_ variable. A _slack_ variable allows us to transform and inequality into an equality, or in this case, an \"or\" statement into an \"and\" statement. For example, take the following inequality:\n",
    "\\begin{equation}\n",
    "\\bf{A}x \\leq b\n",
    "\\end{equation}\n",
    "We introduce the slack variable $y \\geq 0$ which allows us to transform the above inequality into the following equality:\n",
    "\\begin{equation}\n",
    "\\bf{A}x + y = b\n",
    "\\end{equation}\n",
    "Because $y$ can compensate for the \"slack\" between b and $\\bf{A}x$ and make it so that $\\bf{A}x + y$ is always equal to $b$.\n",
    "\n",
    "Therefore, to transform the \"or\" statements from the section above into \"and\" statements, we use $t_{i,k}$ together with an arbitrarily large positive number $M$. \n",
    "$$\\forall i \\in [1,2,...,N] \\quad x_i \\leq x_{min} + M t_{i1}$$\n",
    "and$$            \\quad     -x_i \\geq -x_{max} + M t_{i2}$$\n",
    "and$$            \\quad       y_i \\leq y_{min} + M t_{i3}$$\n",
    "and$$            \\quad      -y_i \\geq -y_{max} + M t_{i4}$$\n",
    "and$$            \\quad \\Sigma_{k=1}^{4} t_{i,k} \\leq 3$$\n",
    "For example, $t_{i1}=0$ if $x_i \\leq x_{min}$. If $x_i \\gt x_{min}$, then $t_{i1}=1$ and since $M$ is a large positive number, we satisfy the constraint that $x_i \\leq x_{min} + M t_{i1}$. In order to classify a position $(x_i,y_i)$ as within obstacle $i$, $\\Sigma_{k=1}^{4} t_{i,k} = 4$ which has the same meaning as all of the \"or\" statements in the previous section being false.\n",
    "\n",
    "#### Next we must reformulate these constraints so that they can apply to an obstacle shaped as a n-sided polygon\n",
    "The extension of the constraint enumeration to an obstacle shaped as a n-sided polygon is fairly trivial; the number of per-obstacle constraint equations is always $n+1$ with the last constraint equation resembling:\n",
    "$$\\Sigma_{k=1}^{n} t_{i,k} \\leq n-1$$\n",
    "The challenge in extending the obstacle encoding problem to obstacles shaped as n-sided polygons is the fact that an edge of the obstacle could _not_ be orthogonal to either the environment's X or Y axes. \n",
    "\n",
    "To begin, each polygon will have $n$ sides. We will denote each side with a pair of coordinates that correspond to the two vertexes that define the edges of the side; therefore, side $n_k = \\{(x_{i,k},y_{i,k}),(x_{i,k'},y_{i,k'})\\}$ such that $k \\in [1,2,..L], k \\neq k'$. From here, we can define a line segment for each side of the polygon\n",
    "$$y_{i,k} = A_{i,k} x_{i,k} + b_{i,k}$$\n",
    "Where $A_{i,k}$ is the slope of each side $l$. We can calculate $A_{i,k}$ by\n",
    "$$A_{i,k} = \\frac{y_{i,k'}-y_{i,k}}{x_{i,k'}-x_{i,k}}\\quad s.t.\\quad x_{i,k'}-x_{i,k} \\neq 0\\quad and \\quad y_{i,k'}-y_{i,k} \\neq 0$$\n",
    "and calculate $b_{i,k}$ by substituting a point along the side for the values $(x_{i,k},y_{i,k})$ and solving for $b_{i,k}$. If $x_{i,k'}-x_{i,k} \\eq 0$ or $y_{i,k'}-y_{i,k} \\eq 0$, the side is parallel to the y-axis and x-axis, respectively. In these cases, the constraint equation for the side follows from the previous section. All sides that are not orthogonal to an axis can be represented by the following constraint equation:\n",
    "$$y_i \\leq A_{i,k}x_i + b_{i,k} + M t_{i,k}$$\n",
    "Where $t_{i,k}$ and $M$ carry forward from the previous section. Therefore, the full set of constraint equations for sides of a square whose sides are not orthogonal to either the x-axis or y-axis can be described by the following:\n",
    "$$\\forall i \\in [1,2,...,N] \\quad y_i \\leq A_{i,1}x_{i} + b_{i,1} + M t_{i1}$$\n",
    "and$$            \\quad     -y_i \\geq -(A_{i,2}x_{i} + b_{i,2}) + M t_{i2}$$\n",
    "and$$            \\quad       y_i \\leq A_{i,3}x_{i} + b_{i,3} + M t_{i3}$$\n",
    "and$$            \\quad      -y_i \\geq -(A_{i,4}x_{i} + b_{i,4}) + M t_{i4}$$\n",
    "and$$            \\quad \\Sigma_{k=1}^{4} t_{i,k} \\leq 3$$\n",
    "\n",
    "#### Example\n",
    "\n",
    "The code block below shows a polygon with sides that are orthogonal to the x-axis and y-axis as well as sides that are not orthogonal. Feel free to change the points in order to see whether they fall inside or outside of the polygon.\n"
   ]
  },
  {
   "cell_type": "code",
   "execution_count": 22,
   "metadata": {},
   "outputs": [
    {
     "name": "stdout",
     "output_type": "stream",
     "text": [
      "(5.5, 5.5)\n",
      "Point 1 is NOT in obstacle 1\n",
      "Point 2 IS in obstacle 1\n"
     ]
    },
    {
     "data": {
      "image/png": "[encoded data removed]",
      "text/plain": [
       "<Figure size 396x396 with 1 Axes>"
      ]
     },
     "metadata": {
      "needs_background": "light"
     },
     "output_type": "display_data"
    }
   ],
   "source": [
    "# Change obstacle points and start point at will\n",
    "obs = ([(3,2), (2,5), (5,5),(6,4),(6,3)])\n",
    "start = (1,1)\n",
    "other = (4,3)\n",
    "\n",
    "# DO NOT Change Below Here\n",
    "pco = pyclipper.PyclipperOffset()\n",
    "pco.MiterLimit = 10\n",
    "pco.AddPath(pyclipper.scale_to_clipper(obs), pyclipper.JT_MITER, pyclipper.ET_CLOSEDPOLYGON)\n",
    "buff_obs = pyclipper.scale_from_clipper(pco.Execute(pyclipper.scale_to_clipper(.2)))\n",
    "\n",
    "env = Environment(None)\n",
    "env.add_obstacles([Polygon(buff_obs[0])])\n",
    "bounds = (0, 0, 8, 8)\n",
    "ax = plot_environment(env, bounds=bounds)\n",
    "start_point = Point(start).buffer(0.1, resolution=3)\n",
    "other_point = Point(other).buffer(0.1, resolution=3)\n",
    "goal_region = Polygon(goal)\n",
    "plot_poly(ax, start_point,'magenta')\n",
    "plot_poly(ax, other_point,'red')\n",
    "plot_poly(ax, goal_region,'green')\n",
    "points = (start, other)\n",
    "numObs = len(env.obstacles)\n",
    "for p in range(0,len(points)):\n",
    "    point = points[p]\n",
    "    for i in range(0,numObs):\n",
    "        obstacle = env.obstacles[i]\n",
    "        vertexes = list(obstacle.exterior.coords)\n",
    "        numSides = len(vertexes)-1\n",
    "        t = []\n",
    "        x_center = 0\n",
    "        y_center = 0\n",
    "        for vertex in range(0,numSides):\n",
    "            x_center = x_center + vertexes[vertex][0]\n",
    "            y_center = y_center + vertexes[vertex][1]\n",
    "        x_center = x_center/numSides\n",
    "        y_center = y_center/numSides\n",
    "        for vertex in range(0,numSides):\n",
    "            x = vertexes[vertex][0]\n",
    "            y = vertexes[vertex][1]\n",
    "            num = vertexes[vertex+1][1] - vertexes[vertex][1]\n",
    "            den = vertexes[vertex+1][0] - vertexes[vertex][0]\n",
    "            if(den == 0):\n",
    "                if(x_center < x):\n",
    "                    t.append(point[0]<x)\n",
    "                elif(x_center > x):\n",
    "                    t.append(point[0]>x)\n",
    "            else:\n",
    "                A = (num/den)\n",
    "                b = y-A*x\n",
    "                if(y_center < A*x_center + b):\n",
    "                    t.append(point[1] < A*point[0]+b)\n",
    "                elif(y_center > A*x_center + b):\n",
    "                    t.append(point[1] > A*point[0]+b)\n",
    "        if(False not in t):\n",
    "            print('Point %d IS in obstacle %d'%(p+1,i+1))\n",
    "        else:\n",
    "            print('Point %d is NOT in obstacle %d'%(p+1,i+1))\n",
    "#should print out True, True, True, False, False. Goes around sides counterclockwise starting at vertical line.\n"
   ]
  },
  {
   "cell_type": "markdown",
   "metadata": {},
   "source": [
    "**The speed limit**\n",
    "\n",
    "The speed limit in this case is provided by the problem for each robot. And we assume that the robots move at the max allowed speed provided. "
   ]
  },
  {
   "cell_type": "code",
   "execution_count": null,
   "metadata": {},
   "outputs": [],
   "source": []
  },
  {
   "cell_type": "markdown",
   "metadata": {},
   "source": [
    "### Space Station Problem Introduction\n",
    "- Go through same steps as above\n",
    "- Introduce multi-vehicle problem\n",
    "    - Collision avoidance\n",
    "    - Each waypoint visited by only one vehicle"
   ]
  },
  {
   "cell_type": "markdown",
   "metadata": {},
   "source": [
    "In the real space station problem, it is a little different from the simplified problem above. The number of robots is bigger than 1, which means that we need to add dynamic equations and constrait equations for each robot. One of the big change here is the non-collision constraint, which can be formalized by that all the robot pairs keep a minimum distance accoding their own coordination. But the process to solve the problem is relatively similar as the one we use in the simplified problem."
   ]
  },
  {
   "cell_type": "code",
   "execution_count": null,
   "metadata": {},
   "outputs": [],
   "source": []
  },
  {
   "cell_type": "markdown",
   "metadata": {},
   "source": [
    "### Encoding of Problem - MIQCP\n",
    "\n",
    "Since the speed limit is given, the distance traveled in a given time step is a quadratic constraint. \n",
    "\n",
    "Thus the whole problem can be encoded as a motion planning problem based on MIQCP with the constriant of speed limitation, time limitation (termination constraint), non-collision constraint, obstacle constraint with the objective function of time to finish the whole task. "
   ]
  },
  {
   "cell_type": "code",
   "execution_count": null,
   "metadata": {},
   "outputs": [],
   "source": []
  },
  {
   "cell_type": "markdown",
   "metadata": {},
   "source": [
    "## Outstanding Questions\n",
    "- What is the data structure we will be using for obstacles, paths, etc? Similar to HW6?\n",
    "- Are workstations that are not the current goal to be treated as obstacles?\n",
    "- Objective function = minimize time?\n",
    "- Multiple droids? These must avoid eachother while moving, right? How many?\n",
    "- Are we ignoring acceleration, and only considering velocity? So robots are stopped or traveling at max speed at all times?\n",
    "- Which solver are we using?\n"
   ]
  },
  {
   "cell_type": "code",
   "execution_count": null,
   "metadata": {},
   "outputs": [],
   "source": []
  }
 ],
 "metadata": {
  "kernelspec": {
   "display_name": "Python 3",
   "language": "python",
   "name": "python3"
  },
  "language_info": {
   "codemirror_mode": {
    "name": "ipython",
    "version": 3
   },
   "file_extension": ".py",
   "mimetype": "text/x-python",
   "name": "python",
   "nbconvert_exporter": "python",
   "pygments_lexer": "ipython3",
   "version": "3.7.4"
  }
 },
 "nbformat": 4,
 "nbformat_minor": 2
}
