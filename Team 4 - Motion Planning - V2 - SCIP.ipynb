{
 "cells": [
  {
   "cell_type": "code",
   "execution_count": 1,
   "metadata": {
    "scrolled": true
   },
   "outputs": [],
   "source": [
    "%load_ext autoreload\n",
    "%autoreload 2\n",
    "%matplotlib inline\n",
    "\n",
    "from motion_planning_utils_scip import *\n",
    "from matplotlib import pyplot as plt\n",
    "import numpy as np\n",
    "from shapely.geometry import Point, Polygon, LineString, box\n",
    "from environment import Environment, plot_environment, plot_line, plot_poly\n",
    "# import pyclipper\n",
    "from pyscipopt import *\n",
    "import json\n",
    "import scenarios"
   ]
  },
  {
   "cell_type": "markdown",
   "metadata": {},
   "source": [
    "# Project 4 - Motion Planning"
   ]
  },
  {
   "cell_type": "markdown",
   "metadata": {},
   "source": [
    "### Introduction to Trajectory Optimization\n",
    "As you know, the Big Bad Guy in Black is desperate to find the intruder lurking somewhere aboard the ~~moon~~ space station. He has tasked his droids to travel to each work station and make sure that the intruder isn't trying to deactivate tractor beams or convert young minds to his strange space religion.\n",
    "\n",
    "In this task, we will provide trajectories for each droid, in between workstations. We are\n",
    "given a qualitative state plan with sequences of workstations each robot must visit, as well as a more\n",
    "detailed description of the layout of the ~~moon~~ space station, including obstacles. We will\n",
    "output a set of waypoints and times of arrival at each waypoint."
   ]
  },
  {
   "cell_type": "markdown",
   "metadata": {},
   "source": [
    "## Robot Dynamics\n",
    "\n",
    "In this part, we will incorporate robot dynamics using a discrete time model. The initial location, goal locations, the geometry of space station and obstacles, and vehicle speed limits are the inputs. We ignore acceleration constraints, and will solve an optimization problem to minimize distance. We will simplify the problem by treating the robot as a point mass as well. \n",
    "\n",
    "Under these assumptions, a generalized dynamic equation can be written in the form:\n",
    "\n",
    "$$\\begin{array}{c}\n",
    "& s_{t+1} = A_ds_t + B_du_t \\\\\\\n",
    "\\end{array}$$\n",
    "\n",
    "where:\n",
    "- $s_t$ is state (postion and velocity) of the robot at time step $t$\n",
    "- $A_d$ describes the dynamics relationship between position and velocity\n",
    "- $B_d$ describes the dynamics relationship between control input and velocity\n",
    "- $u_t$ is the control input at time step $t$\n",
    "- $\\Delta t$ is the time step size within total time $T$\n",
    "\n",
    "In our simplified robot dynamics system, we will ignore control inputs and model dynamics as a function of position and time only. The maximum velocity will be formulated as a constraint on position variables at consecutive time steps. We can therefore system dynamics to be of the form:\n",
    "\n",
    "$$\\begin{array}{c}\n",
    "& s_{t+1} = A_ds_t \\\\\\\n",
    "\\end{array}$$\n",
    "\n",
    "We can translate this equation into the matrix form:\n",
    "\n",
    "$$  \\begin{pmatrix}x_{t+1}\\\\y_{t+1}\\end{pmatrix} = \\begin{pmatrix}1&0& \\bigtriangleup t &0\\\\0&1&0&\\bigtriangleup t\\end{pmatrix}  \\begin{pmatrix}x_{t}\\\\y_{t}\\\\\\dot{x}_{t}\\\\\\dot{y}_{t}\\end{pmatrix}$$\n"
   ]
  },
  {
   "cell_type": "markdown",
   "metadata": {},
   "source": [
    "## Modeling the problem using a mathematical programming formulation\n",
    "\n",
    "### Choosing Decision Variables\n",
    "$$\n",
    "\\begin{array}{c}\n",
    "x_t \\text{ is the x-position at time step } i \\text{ for } i \\in [0,1,...,T]\\\\ \n",
    "y_t \\text{ is the y-position at time step } i \\text{ for } i \\in [0,1,...,T]\\\\ \n",
    "\\end{array}\n",
    "$$\n",
    "\n",
    "\n",
    "### Designing an Objective Function\n",
    "Since the goal is to minimize distance traveled, our objective function will seek to minimize the cumulative distance traveled during each consecutive time step. The distance between any two time steps $t-1$ and $t$ is given by:\n",
    "\n",
    "$$\n",
    "\\begin{array}{c}\n",
    "\\sqrt{(x_t - x_{t-1})^2 + (y_t - y_{t-1})^2}\\\\  \n",
    "\\end{array}\n",
    "$$\n",
    "\n",
    "In order to remove the complicating square-root from our objective function, we can instead minimize the square of distance, which gives us the following objective function:\n",
    "\n",
    "$$\n",
    "\\begin{array}{c}\n",
    "\\text{OBJ: min}_t  \\sum_1^T{(x_t - x_{t-1})^2 + (y_t - y_{t-1})^2}\\\\  \n",
    "\\end{array}\n",
    "$$\n",
    "\n",
    "\n",
    "\n"
   ]
  },
  {
   "cell_type": "markdown",
   "metadata": {},
   "source": [
    "### Modeling Maximum Velocity Constraint\n",
    "Since our system is discretized into constant-duration time steps $\\Delta t$, we can model coordinate component velocity as the change position at any time step t:\n",
    "\n",
    "$$\n",
    "\\begin{array}{c}\n",
    "\\dot{x} = (x_t - x_{t-1})/\\Delta t\\\\\n",
    "\\dot{y} = (y_t - y_{t-1})/\\Delta t\\\\\n",
    "\\\\\n",
    "\\text{and then the square of velocity becomes:}\\\\\n",
    "\\\\\n",
    "v^2 = [(x_t - x_{t-1})^2 + (y_t - y_{t-1})^2] / \\Delta t^2\\\\\n",
    "\\end{array}\n",
    "$$\n",
    "\n",
    "$$\n",
    "\\begin{array}{c}\n",
    "\\text{If } u \\text{ is the maximum velocity permitted, then } \\lVert v \\rVert \\le u\\text{, so our constraint can be written as: } \\\\\n",
    "\\\\\n",
    "(x_t - x_{t-1})^2 + (y_t - y_{t-1})^2 \\le v^2 \\Delta t^2 \\quad \\forall t\\\\\n",
    "\\end{array}\n",
    "$$\n",
    "\n",
    "Note that this constraint complicates the problem from a numerical solving efficiency standpoint -- the quadratic constraint brings us into the realm of Mixed-Integer Quadratically-Constrainted Programming (MIQCP)"
   ]
  },
  {
   "cell_type": "markdown",
   "metadata": {},
   "source": [
    "### Encoding obstacles as constraints\n",
    "\n",
    "Since all the obstacles in this problem are stationary, we can easily encode convex polygonal obstacles using linear constraints. Concave shapes can be dealt with by discretizing them into multiple convex objects, or by setting a convex boundary that encompasses the entire shape.\n",
    "\n",
    "<img src=\"simple_sq_obs.png\" style=\"width:50%;\"/>\n",
    "\n",
    "In the example scenario above, the obstacle is a rectangle shaped by $[x_{min}, x_{max}]$ and $[y_{min}, y_{max}]$. The positional constraint ensuring the obstacle is avoided can be expressed by: \n",
    "\n",
    "$$\\begin{array}{l}\n",
    "& \\forall t  \\in [1,2,3,..., T]:\\\\\n",
    "& x_t \\leq x_{min}\\\\\n",
    "\\text{or} & x_t \\geq x_{max}\\\\\n",
    "\\text{or} & y_t \\leq y_{min}\\\\\n",
    "\\text{or} & y_t \\geq y_{max}\\\\\n",
    "\\end{array}$$\n",
    "\n",
    "However, to make these constraints useful in solving a linear program, we need to reformulate the constraints to get rid of the \"OR\" statements and convert them to \"AND\" statements. To do this, we introduce the notion of the binary variable $z_{j,k}$:  \n",
    "\n",
    "$$\\begin{array}{l}\n",
    "&& z_{j,k} \\in [0,1]\\\\\n",
    "&\\text{where} & j \\in [1,2,3,...J]\\\\\n",
    " && k \\in [1,2,3,...K_j]\\\\\n",
    " && J \\text{ is the number of polygon obstacles}\\\\\n",
    " && k \\text{ is the index of each side of polygon obstacle j with $K_j$ total sides}\\\\\n",
    "\\end{array}$$\n",
    "\n",
    "The binary variable $z_{j,k}$ is known as a _slack_ variable. A _slack_ variable allows us to transform and inequality into an equality, or in this case, an \"OR\" statement into an \"AND\" statement. For example, take the following inequality:\n",
    "\n",
    "\\begin{equation}\n",
    "\\bf{A}x \\leq b\n",
    "\\end{equation}\n",
    "\n",
    "We introduce the slack variable $z \\geq 0$ which allows us to transform the above inequality into the following equality:\n",
    "\n",
    "\\begin{equation}\n",
    "\\bf{A}x + z = b\n",
    "\\end{equation}\n",
    "\n",
    "Because $z$ can compensate for the \"slack\" between b and $\\bf{A}x$ and make it so that $\\bf{A}x + z$ is always equal to $b$.\n",
    "\n",
    "Therefore, for our simple rectangle example, to transform the \"OR\" statements into \"AND\" statements, we use $z_{i,k}$ together with an arbitrarily large positive number $M$ (referred to as \"Big-M\" notation\").\n",
    "\n",
    "$$\\begin{array}{l}\n",
    "& \\forall t \\in [1,2,..., T]: \\\\\n",
    "& x_t \\leq x_{min} + M z_{1,1} \\\\\n",
    "\\text{and} & -x_t \\leq -x_{max} + M z_{1,2} \\\\\n",
    "\\text{and} & y_t \\leq y_{min} + M z_{1,3} \\\\\n",
    "\\text{and} & -y_t \\leq -y_{max} + M z_{1,4} \\\\\n",
    "\\text{and} & \\Sigma_{k=1}^{4} z_{j,k} \\leq 3 \\\\\n",
    "\\end{array}$$\n",
    "\n",
    "\n",
    "For example, $z_{j,1}=0$ if $x_t \\leq x_{min}$. If $x_t \\gt x_{min}$, then $z_{j,1}=1$ and since $M$ is a large positive number, we satisfy the constraint that $x_t \\leq x_{min} + M z_{j,1}$. In order to classify a position $(x_t,y_t)$ as within obstacle $j$, then $\\Sigma_{k=1}^{4} z_{j,k} = 4$ which has the same meaning as all of the \"OR\" statements in the previous section being false.\n"
   ]
  },
  {
   "cell_type": "markdown",
   "metadata": {},
   "source": [
    "## Generalizing constraints for a n-sided polygon\n",
    "The extension of the constraint enumeration to an obstacle shaped as a n-sided polygon is fairly trivial; the number of per-obstacle constraint equations is always $n+1$ with the last constraint equation resembling:\n",
    "$$\\Sigma_{k=1}^{n} z_{j,k} \\leq n-1$$\n",
    "\n",
    "The challenge in extending the obstacle encoding problem to obstacles shaped as n-sided polygons is the fact that an edge of the obstacle could _not_ be orthogonal to either the environment's X or Y axes. \n",
    "\n",
    "To begin, each polygon will have $n$ sides. We will denote each side with a pair of coordinates that correspond to the two vertexes that define the edges of the side; therefore, side $n_k = \\{(x_{j,k},y_{j,k}),(x_{j,k'},y_{j,k'})\\}$ such that $k \\in [1,2,..n], k \\neq k'$. From here, we can define a line segment for each side of the polygon\n",
    "\n",
    "$$y_{j,k} = A_{j,k} x_{j,k} + b_{j,k}$$\n",
    "\n",
    "Where $A_{j,k}$ is the slope of each side $l$. We can calculate $A_{j,k}$ by\n",
    "\n",
    "$$A_{j,k} = \\frac{y_{j,k'}-y_{j,k}}{x_{j,k'}-x_{j,k}}\\quad s.t.\\quad x_{j,k'}-x_{j,k} \\neq 0\\quad and \\quad y_{j,k'}-y_{j,k} \\neq 0$$\n",
    "\n",
    "and calculate $b_{j,k}$ by substituting a point along the side for the values $(x_{j,k},y_{j,k})$ and solving for $b_{j,k}$. If $x_{j,k'}-x_{j,k} = 0$ or $y_{j,k'}-y_{j,k} = 0$, the side is parallel to the y-axis and x-axis, respectively. In these cases, the constraint equation for the side follows from the previous section. All sides that are not orthogonal to an axis can be represented by the following constraint equation:\n",
    "\n",
    "$$y_{t} \\leq A_{j,k}x_t + b_{j,k} + M z_{j,k}$$\n",
    "\n",
    "Where $z_{j,k}$ and $M$ carry forward from the previous section. Therefore, the full set of constraint equations for sides of a rectangle whose sides are not orthogonal to either the x-axis or y-axis can be described by the following:\n",
    "\n",
    "$$\\begin{array}{l}\n",
    "&\\forall i \\in [1,2,...,N]:\\\\\n",
    " & y_t \\leq A_{j,1}x_{t} + b_{j,1} + M z_{j,1}\\\\\n",
    "\\text{and} & -y_t \\leq -A_{j,2}x_{t} - b_{j,2} + M z_{j,2}\\\\\n",
    "\\text{and} & y_t \\leq A_{j,3}x_{t} + b_{j,3} + M z_{j,3}\\\\\n",
    "\\text{and} & -y_t \\leq -A_{j,4}x_{t} - b_{j,4} + M z_{j,4}\\\\\n",
    "\\text{and} & ...\\\\\n",
    "\\text{and} & -y_t \\leq -A_{j,N}x_{t} - b_{j,N} + M z_{j,N}\\\\\n",
    "\\text{and} & \\Sigma_{k=1}^{N} z_{j,k} \\leq N-1\\\\\n",
    "\\end{array}$$"
   ]
  },
  {
   "cell_type": "markdown",
   "metadata": {},
   "source": [
    "### Encoding Goal Constraints\n",
    "Ultimately, the robot must know whether or not it has arrived at the workstation. The constraints for the goal are almost the exact opposite as the constraints for an obstacle. Instead of the requiring the robot's position to lie outside of the polygon (in the case of an obstacle), the robot's position must lie within the polygon.\n",
    "\n",
    "In the obstacle constraint case, we needed to introduce the slack variable $z$ and the large constant $M$ because as long as all of the slack variables for a specific obstacle were not 1, the robot's position was outside of the polygon. For the case of the goal, however, the robot must satisfy all of the polygon's constraints. Therefore, for a 4 sided polygon the constraints can be listed as the following:\n",
    "\n",
    "$$\\begin{array}{l}\n",
    "& t = T\\\\\n",
    "& x_t \\geq x_{min}\\\\\n",
    "\\text{and} & -x_t \\geq -x_{max}\\\\\n",
    "\\text{and} & y_t \\geq y_{min}\\\\\n",
    "\\text{and} & -y_t \\geq -y_{max}\\\\\n",
    "\\end{array}$$\n",
    "\n",
    "Note that this constraint only applies to the last itme index since we are considering a fixed arrival time, so the robot must arrive at the goal in the last time index."
   ]
  },
  {
   "cell_type": "markdown",
   "metadata": {},
   "source": [
    "### Determining the Direction of the Obstacle and Goal Inequalities\n",
    "When considering a problem with multiple convex obstacles, it is necessary to develop an algorithm that will consistently return the appropriate direction of the obstacle inequalities. For obstacles, the robot's position must lie either above, below, to the left, or to the right of the constraint depending on which boundary the constraint lies upon. \n",
    "\n",
    "If we know a point within the obstacle or within the goal, we can determine the direction of the obstacle and goal inequalities. Since the obstacles and goals are convex, if we take the average of all of the $x$ positions and $y$ positions of the vertices and form a new point with those averages, we are guaranteed to find a point within the polygon. \n",
    "\n",
    "$$\\begin{array}{l}\n",
    "x_{inside} = \\Sigma_{i}^{N} \\frac{V_{x}[i]}{N} \\\\\n",
    "y_{inside} = \\Sigma_{i}^{N} \\frac{V_{y}[i]}{N} \\\\\n",
    "\\end{array}$$\n",
    "\n",
    "Such that $N$ is the number of vertices and $V[i]$ corresponds to the $(x,y)$ coordinate of vertex $i$. Using the $x$ and $y$ position of the point inside the polygon we can determine the direction of the inequality for each constraint. For the case of obstacles, if $y_{inside} \\leq y_t$ then we know the constraint forms an upper boundary on the polygon and that we must flip the direction of the inequality for the obstacle constraint. The opposite is true for any goal polygon.\n",
    "\n",
    "Feel free to change the number and location of the vertices in the following example to demonstrate how the average of all the vertex points creates a point inside of a convex polygon."
   ]
  },
  {
   "cell_type": "code",
   "execution_count": 2,
   "metadata": {},
   "outputs": [],
   "source": [
    "# Note we can also use this function, which is implemented later on:\n",
    "%psource find_vertex_avg"
   ]
  },
  {
   "cell_type": "code",
   "execution_count": 3,
   "metadata": {},
   "outputs": [
    {
     "name": "stdout",
     "output_type": "stream",
     "text": [
      "(5.5, 5.5)\n"
     ]
    },
    {
     "data": {
      "image/png": "[encoded data removed]",
      "text/plain": [
       "<Figure size 396x396 with 1 Axes>"
      ]
     },
     "metadata": {
      "needs_background": "light"
     },
     "output_type": "display_data"
    }
   ],
   "source": [
    "obstacle = [(3,2), (2,6), (4,5), (6,3)]\n",
    "start = (1,1)\n",
    "goal = [(6,6), (6,7), (7,7), (7, 6)]\n",
    "\n",
    "env = Environment(None)\n",
    "env.add_obstacles([Polygon(obstacle)])\n",
    "bounds = (0, 0, 8, 8)\n",
    "ax = plot_environment(env, bounds=bounds)\n",
    "\n",
    "x_inside = 0\n",
    "y_inside = 0\n",
    "N = len(obstacle)\n",
    "for vertex in obstacle:\n",
    "    x_inside = x_inside + vertex[0]*(1/N)\n",
    "    y_inside = y_inside + vertex[1]*(1/N)\n",
    "inside_point = (x_inside,y_inside)\n",
    "    \n",
    "start_point = Point(inside_point).buffer(0.1, resolution=3)\n",
    "goal_region = Polygon(goal)\n",
    "plot_poly(ax, start_point,'red')"
   ]
  },
  {
   "cell_type": "markdown",
   "metadata": {},
   "source": [
    "## Simple Robot Path Planning - Single Obstacle\n",
    "\n",
    "We'll start by considering a simplified version of our ultimate problem, and examine constraint-based path planning throgh a single-obstacle environment to reach a single goal. In an 8x8 unit environment, we define our problem conditions as follows:\n",
    "\n",
    "- Robot Start Point: `(1,1)`\n",
    "- Goal Region: Rectangle region bounded by `[(6,6), (6,7), (7,7), (7, 6)]`\n",
    "- Obstacles: Single obstacle bounded by `[(3,2), (2,6), (4,5), (6,3)]`\n",
    "\n",
    "Our goal will be to minimize distance traveled.\n",
    "\n",
    "Run the code in the next cell to preview the starting environment.\n",
    "\n"
   ]
  },
  {
   "cell_type": "code",
   "execution_count": 4,
   "metadata": {},
   "outputs": [
    {
     "name": "stdout",
     "output_type": "stream",
     "text": [
      "(5.5, 5.5)\n"
     ]
    },
    {
     "data": {
      "image/png": "[encoded data removed]",
      "text/plain": [
       "<Figure size 396x396 with 1 Axes>"
      ]
     },
     "metadata": {
      "needs_background": "light"
     },
     "output_type": "display_data"
    }
   ],
   "source": [
    "# Sample Problem\n",
    "obstacles = [(3,2), (2,6), (4,5), (6,3)]\n",
    "start = (1,1)\n",
    "goal = [(6,6), (6,7), (7,7), (7, 6)]\n",
    "\n",
    "env = Environment(None)\n",
    "env.add_obstacles([Polygon(obstacles)])\n",
    "bounds = (0, 0, 8, 8)\n",
    "ax = plot_environment(env, bounds=bounds)\n",
    "start_point = Point(start).buffer(0.4, resolution=3)\n",
    "goal_region = Polygon(goal)\n",
    "plot_poly(ax, start_point,'magenta')\n",
    "plot_poly(ax, goal_region,'green')"
   ]
  },
  {
   "cell_type": "markdown",
   "metadata": {},
   "source": [
    "In order to simplify the problem, we would like to treat our robot as a point object. To do this, we add a buffer, equal to the robot's radius, to every obstacle in the environment. This allows us to consider the robot as a point, rather than a moving area, and still take into account the robot's size to avoid collision with obstacles. \n",
    "\n",
    "To make this easy, we'll use the `pyclipper` package to create the buffer. The example code below performs this task for our example environment and obstacle, using functions defined in the `motion_planning_utils` file:"
   ]
  },
  {
   "cell_type": "code",
   "execution_count": 5,
   "metadata": {},
   "outputs": [],
   "source": [
    "### Commented out for now -- pyclipper not installed on course docker\n",
    "\n",
    "# # Redefine obstacles with radius of droid; treat droid as a point robot\n",
    "# buff_obs = grow_obstacles(obstacles)\n",
    "# plot_env([Polygon(buff_obs[0])], start, goal, bounds)\n",
    "# # plot_env([Polygon(obstacles)], start, goal, bounds)\n",
    "# print('Buffered Obstacle Vertices: \\n', buff_obs)"
   ]
  },
  {
   "cell_type": "markdown",
   "metadata": {},
   "source": [
    "## Constraint Encoding Using PySCIPOpt Interface and SCIP Solver\n",
    "\n",
    "After constructing the path planning problem as a MIQCP problem, we must encode the variables, objective function, and constraints and feed this into a solver. [PySCIPOpt](https://github.com/SCIP-Interfaces/PySCIPOpt) is a commonly-used python interface for the open-source [SCIP Solver](https://scip.zib.de/). \n",
    "\n",
    "The general outline is: \n",
    " - Specify variables\n",
    " - Specify contraints over these variables\n",
    " - Construct a model with the constraints\n",
    " - Construct the solver using that model\n",
    " - Call `solve()` and extract results from variables using `get_value()`\n",
    " \n",
    "As the variables and constraints are already defined above, the following section provides and example encoding of our trivial problem with a single obstacle."
   ]
  },
  {
   "cell_type": "markdown",
   "metadata": {},
   "source": [
    "Run the cell below to view the source code to see how the optimization problem for path planning can be generated programatically, given a list of obstacles and the other problem definitions outlined above.\n",
    "\n",
    "A note on our implementation:\n",
    "- We use a `buffer` value to shift each constraint line so that the path cannot be on the obstacle edge. This is necessary because of the inability to use strict inequality constraints in the LP solver. The `buffer` can also be used to account for the width of the robot, to allow us to treat a real object as a point object. "
   ]
  },
  {
   "cell_type": "code",
   "execution_count": 6,
   "metadata": {},
   "outputs": [],
   "source": [
    "%psource create_model"
   ]
  },
  {
   "cell_type": "markdown",
   "metadata": {},
   "source": [
    "### Examples\n",
    "Run the code below to test an example environment. Feel free to try some of the different obstacle variations by loading various environments in the `scenarios.py` file"
   ]
  },
  {
   "cell_type": "code",
   "execution_count": 7,
   "metadata": {},
   "outputs": [],
   "source": [
    "### Load appropriate dictionary from scenarios.py\n",
    "\n",
    "# locals().update(scenarios.one_obstacle)\n",
    "# locals().update(scenarios.two_obstacle)\n",
    "# locals().update(scenarios.quad_boxes)\n",
    "locals().update(scenarios.five_obstacle)"
   ]
  },
  {
   "cell_type": "code",
   "execution_count": 8,
   "metadata": {},
   "outputs": [
    {
     "name": "stdout",
     "output_type": "stream",
     "text": [
      "wrote problem to file b'm_scip_oneobs.cip'\n"
     ]
    }
   ],
   "source": [
    "# Set problem parameters\n",
    "N = 40\n",
    "timestep = 1\n",
    "V_max = .5\n",
    "buffer = 1e-4\n",
    "\n",
    "# Build model & optimize\n",
    "m,x,y,d,bounds = create_model(start, goal, obs_list, N, timestep, V_max, buffer)\n",
    "m.writeProblem(filename='m_scip_oneobs.cip')\n",
    "\n",
    "m.optimize()"
   ]
  },
  {
   "cell_type": "code",
   "execution_count": 9,
   "metadata": {},
   "outputs": [
    {
     "name": "stdout",
     "output_type": "stream",
     "text": [
      "Path Distance:  0.0\n",
      "(5.5, 5.5)\n"
     ]
    },
    {
     "data": {
      "image/png": "[encoded data removed]",
      "text/plain": [
       "<Figure size 396x396 with 1 Axes>"
      ]
     },
     "metadata": {
      "needs_background": "light"
     },
     "output_type": "display_data"
    }
   ],
   "source": [
    "path_list, dist = parse_model_path(m,x,y,d)\n",
    "\n",
    "# Plot\n",
    "print(\"Path Distance: \", sum(dist))\n",
    "ax = plot_env(obs_list, start, goal, bounds, Environment(None))\n",
    "for pt in path_list:\n",
    "    t_pt = Point(pt).buffer(0.05, resolution=3)\n",
    "    plot_poly(ax, t_pt, 'black')    "
   ]
  },
  {
   "cell_type": "markdown",
   "metadata": {},
   "source": [
    "## Main Problem - Path Planning\n",
    "\n",
    "You are currently located on our robot is currently located at start point `(0,0)`. It needs to find an optimal path to the goal region, defined as `[goal region]`, where the your communications equipment is located, in order to send out a message in time to warn your fellow comrades of the pending arrival of space intruders. There is a large obstacle of complex geometry that separates your robot from the goal region. The obstacle is actually comprised of many sub-obstacles that were compiled from multiple radar cross-sections, as shown below:"
   ]
  },
  {
   "cell_type": "code",
   "execution_count": 13,
   "metadata": {},
   "outputs": [
    {
     "data": {
      "text/plain": [
       "<matplotlib.legend.Legend at 0x7fc092ce0748>"
      ]
     },
     "execution_count": 13,
     "metadata": {},
     "output_type": "execute_result"
    },
    {
     "data": {
      "image/png": "[encoded data removed]",
      "text/plain": [
       "<matplotlib.figure.Figure at 0x7fc09286b518>"
      ]
     },
     "metadata": {},
     "output_type": "display_data"
    }
   ],
   "source": [
    "# Test JSON obstacle file\n",
    "with open('notamoon.json') as f:\n",
    "    ex_json_dict = json.load(f)\n",
    "plt.figure(figsize=(14,8))\n",
    "\n",
    "for obs in ex_json_dict['obstacles']:\n",
    "    coord = np.array(obs['geometry']['coordinates'])\n",
    "    plt.plot(coord[:,0],coord[:,1],'-r')\n",
    "\n",
    "plt.gca().set_aspect('equal','box')\n",
    "plt.draw()\n",
    "line1,= plt.plot(coord[:,0],coord[:,1],'-r',label='Obstacles')\n",
    "\n",
    "coord = np.array(ex_json_dict['goal']['geometry']['coordinates'])\n",
    "line2,=plt.plot(coord[:,0],coord[:,1],'k-',label='Goal Region')\n",
    "\n",
    "line3,=plt.plot(0,0,'*b',label='Start Location')\n",
    "plt.legend(handles=[line1,line2,line3],loc='best')"
   ]
  },
  {
   "cell_type": "markdown",
   "metadata": {},
   "source": [
    "In order to formulate the obstacles and goal region properly for our model-builder function, we must do some pre-processing to remove duplicate points in each obstacle or goal object."
   ]
  },
  {
   "cell_type": "code",
   "execution_count": 14,
   "metadata": {},
   "outputs": [],
   "source": [
    "obs_list_nm = process_json_obstacles(ex_json_dict, remove_duplicates=True)\n",
    "obs_list_nmd = process_json_obstacles(ex_json_dict)\n",
    "\n",
    "goal_region = ex_json_dict['goal']['geometry']['coordinates'][:-1]"
   ]
  },
  {
   "cell_type": "markdown",
   "metadata": {},
   "source": [
    "New we are ready to build and solve the model using the same code presented above:"
   ]
  },
  {
   "cell_type": "code",
   "execution_count": null,
   "metadata": {},
   "outputs": [],
   "source": [
    "start = (0,0)\n",
    "goal = goal_region\n",
    "N = 16\n",
    "timestep = 2\n",
    "V_max = 100\n",
    "buffer = 1\n",
    "obs_list = obs_list_nm\n",
    "\n",
    "m,x,y,d,bounds = create_model(start, goal, obs_list, N, timestep, V_max, buffer)\n",
    "\n",
    "# Cutoff after 10 solutions so it doesn't run forever (optional)\n",
    "# m.params.SolutionLimit = 10\n",
    "m.optimize()"
   ]
  },
  {
   "cell_type": "code",
   "execution_count": null,
   "metadata": {},
   "outputs": [],
   "source": [
    "path_list, dist = parse_model_path(m,x,y,d)\n",
    "print(\"Path Distance: \", sum(dist))\n",
    "\n",
    "plt.figure(figsize=(14,8))\n",
    "for obs in obs_list_nmd:\n",
    "    xcoords = [obs[c][0] for c in range(len(obs))]\n",
    "    ycoords = [obs[c][1] for c in range(len(obs))]\n",
    "    plt.plot(xcoords,ycoords,'-r')\n",
    "\n",
    "plt.gca().set_aspect('equal','box')\n",
    "plt.draw()\n",
    "# line1,= plt.plot(coord[:,0],coord[:,1],'-r',label='Obstacles')\n",
    "\n",
    "coord = np.array(ex_json_dict['goal']['geometry']['coordinates'])\n",
    "line2,=plt.plot(coord[:,0],coord[:,1],'k-',label='Goal Region')\n",
    "\n",
    "line3,=plt.plot(0,0,'*b',label='Start Location')\n",
    "plt.legend(handles=[line1,line2,line3],loc='best')\n",
    "\n",
    "xp = [i[0] for i in path_list]\n",
    "yp = [i[1] for i in path_list]\n",
    "plt.plot(xp,yp, linestyle='--', marker='o', color='b')"
   ]
  },
  {
   "cell_type": "markdown",
   "metadata": {},
   "source": [
    "### Solve subset of random obstacles from above scenario\n",
    "Due to the large number of constraints in the above problem, this will result in a shorter runtime by selecting a smaller obstacle number (i.e. `rand_obs=6` below, for example)"
   ]
  },
  {
   "cell_type": "code",
   "execution_count": 54,
   "metadata": {},
   "outputs": [],
   "source": [
    "obs_list_nm, obs_list_nmd = process_json_obstacles(ex_json_dict, rand_obs=6)\n",
    "\n",
    "goal_region = ex_json_dict['goal']['geometry']['coordinates'][:-1]"
   ]
  },
  {
   "cell_type": "code",
   "execution_count": 55,
   "metadata": {},
   "outputs": [
    {
     "name": "stdout",
     "output_type": "stream",
     "text": [
      "wrote problem to file b'model_rand_obs.cip'\n"
     ]
    }
   ],
   "source": [
    "start = (0,0)\n",
    "goal = goal_region\n",
    "N = 16\n",
    "timestep = 2\n",
    "V_max = 100\n",
    "buffer = 1\n",
    "obs_list = obs_list_nm\n",
    "\n",
    "m,x,y,d,bounds = create_model(start, goal, obs_list, N, timestep, V_max, buffer)\n",
    "m.writeProblem(filename='model_rand_obs.cip')\n",
    "m.optimize()"
   ]
  },
  {
   "cell_type": "code",
   "execution_count": 56,
   "metadata": {},
   "outputs": [
    {
     "name": "stdout",
     "output_type": "stream",
     "text": [
      "Path Distance:  27716.50032634945\n"
     ]
    },
    {
     "data": {
      "text/plain": [
       "[<matplotlib.lines.Line2D at 0x7fc055ac0d68>]"
      ]
     },
     "execution_count": 56,
     "metadata": {},
     "output_type": "execute_result"
    },
    {
     "data": {
      "image/png": "[encoded data removed]",
      "text/plain": [
       "<matplotlib.figure.Figure at 0x7fc055aff978>"
      ]
     },
     "metadata": {},
     "output_type": "display_data"
    }
   ],
   "source": [
    "path_list, dist = parse_model_path(m,x,y,d)\n",
    "print(\"Path Distance: \", sum(dist))\n",
    "\n",
    "plt.figure(figsize=(14,8))\n",
    "for obs in obs_list_nm:\n",
    "    xcoords = [obs[c][0] for c in range(len(obs))]\n",
    "    ycoords = [obs[c][1] for c in range(len(obs))]\n",
    "    plt.plot(xcoords,ycoords,'-r')\n",
    "\n",
    "plt.gca().set_aspect('equal','box')\n",
    "plt.draw()\n",
    "# line1,= plt.plot(coord[:,0],coord[:,1],'-r',label='Obstacles')\n",
    "\n",
    "coord = np.array(ex_json_dict['goal']['geometry']['coordinates'])\n",
    "line2,=plt.plot(coord[:,0],coord[:,1],'k-',label='Goal Region')\n",
    "\n",
    "line3,=plt.plot(0,0,'*b',label='Start Location')\n",
    "plt.legend(handles=[line1,line2,line3],loc='best')\n",
    "\n",
    "xp = [i[0] for i in path_list]\n",
    "yp = [i[1] for i in path_list]\n",
    "plt.plot(xp,yp, linestyle='--', marker='o', color='b')"
   ]
  },
  {
   "cell_type": "markdown",
   "metadata": {},
   "source": [
    "### **Solver Selection**\n",
    "\n",
    "As this is problem contains quadratic constraints, we must select a solver capable of handling our problem formulation. Two possbile solvers are SCIP and Gurobi. \n",
    "\n",
    "Gurobi Optimizer is the the fastest and most powerful mathematical programming solver available for LP, QP and MIP (MILP, MIQP, and MIQCP) problems, although Gurobi is not open-source. It is, however, available for free with an academic license through the MIT IST webpage.\n",
    "\n",
    "SCIP is currently one of the fastest open-source solvers for mixed integer programming (MIP) and mixed integer nonlinear programming (MINLP), although substantially slower than Gurobi. SCIP uses similar syntax to Gurobi, and is used in this notebook.\n",
    "\n",
    "Both the two solvers are fast and simple to implement with the python interface library `pyscipopt` for SCIP, and using `gurobipy` for Gurobi. The syntax is nearly identical between the two interface libraries. "
   ]
  },
  {
   "cell_type": "markdown",
   "metadata": {},
   "source": [
    "## Conclusion\n",
    "- Discussion of results\n",
    "- Considerations for added complexity (multi-vehicle, fixed arrival time, etc)\n",
    "- Sources & resources"
   ]
  },
  {
   "cell_type": "code",
   "execution_count": null,
   "metadata": {},
   "outputs": [],
   "source": []
  }
 ],
 "metadata": {
  "kernelspec": {
   "display_name": "Python 3",
   "language": "python",
   "name": "python3"
  },
  "language_info": {
   "codemirror_mode": {
    "name": "ipython",
    "version": 3
   },
   "file_extension": ".py",
   "mimetype": "text/x-python",
   "name": "python",
   "nbconvert_exporter": "python",
   "pygments_lexer": "ipython3",
   "version": "3.7.4"
  }
 },
 "nbformat": 4,
 "nbformat_minor": 2
}
