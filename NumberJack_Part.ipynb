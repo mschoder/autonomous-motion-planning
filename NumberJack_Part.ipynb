{
 "cells": [
  {
   "cell_type": "markdown",
   "metadata": {},
   "source": [
    "# **NumberJack**\n",
    "\n",
    "After constructing the planning problem as a quadratic constraint problem, the constraints along with the objective function will be feeded into the solver to get the optimized solutions. The Numberjack is a common API to interface with back-end solvers. \n",
    "\n",
    "The underlying outline is: \n",
    " - Specify variables\n",
    " - Specify contraints over these variables\n",
    " - Construct a model with the constraints\n",
    " - Construct the solver using that model\n",
    " - Call solve() and extract results from variables using get_value()\n",
    " \n",
    "As the variables and constraints are already established in the previous sections, this part will focus on the solver chosen and some basic example of the solver. "
   ]
  },
  {
   "cell_type": "markdown",
   "metadata": {},
   "source": [
    "The constructs of the problem are splitted into 3 parts: variables, constraints, and model.\n",
    "\n"
   ]
  },
  {
   "cell_type": "markdown",
   "metadata": {},
   "source": [
    "Here are some sample codes we can use after the constraints and variables are defined."
   ]
  },
  {
   "cell_type": "code",
   "execution_count": 1,
   "metadata": {},
   "outputs": [],
   "source": [
    "## Some codes to solve the problem\n",
    "\n",
    "## To define a model\n",
    "# model = Model()\n",
    "\n",
    "## Add constraints\n",
    "#model.add(constraints)\n",
    "\n",
    "## load solver\n",
    "# solver = model.load('solver_name')\n",
    "\n",
    "## Attempt to solve the problem\n",
    "# solver.solve()\n",
    "\n",
    "## To generate solutions:\n",
    "# solver.startNewSearch()\n",
    "# while solver.getNewSolution():\n",
    "#     #do something \n",
    "\n",
    "#Results will be stored in teh Variable objects."
   ]
  },
  {
   "cell_type": "markdown",
   "metadata": {},
   "source": [
    "# **Solver Selection**\n",
    "\n",
    "Since the problem contains quadratic constraints, we should select specific solver to solve the problem. Two possbile solvers are SCIP and Gurobi. \n",
    "\n",
    "Gurobi Optimizer is the the fastest and most powerful mathematical programming solver available for LP, QP and MIP (MILP, MIQP, and MIQCP) problems. But the problem is that Gurobi is not open-source.\n",
    "\n",
    "SCIP is currently one of the fastest non-commercial solvers for mixed integer programming (MIP) and mixed integer nonlinear programming (MINLP). It is also a framework for constraint integer programming and branch-cut-and-price. It allows for total control of the solution process and the access of detailed information down to the guts of the solver.\n",
    "\n",
    "Both the two solvers are fast and easy to implement with Numberjack. And the codes are pretty the same. We will choose one later, which serves better for the task in the project or relates to better results.  "
   ]
  },
  {
   "cell_type": "code",
   "execution_count": null,
   "metadata": {},
   "outputs": [],
   "source": []
  }
 ],
 "metadata": {
  "kernelspec": {
   "display_name": "Python 3",
   "language": "python",
   "name": "python3"
  },
  "language_info": {
   "codemirror_mode": {
    "name": "ipython",
    "version": 3
   },
   "file_extension": ".py",
   "mimetype": "text/x-python",
   "name": "python",
   "nbconvert_exporter": "python",
   "pygments_lexer": "ipython3",
   "version": "3.7.4"
  }
 },
 "nbformat": 4,
 "nbformat_minor": 2
}
